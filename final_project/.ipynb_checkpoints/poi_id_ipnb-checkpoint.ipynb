{
 "cells": [
  {
   "cell_type": "markdown",
   "metadata": {
    "deletable": true,
    "editable": true
   },
   "source": [
    "# Machine Learning With Enron Corpus\n",
    "\n",
    "## Goal: Use Machine Learning to Assess Fraud from Financial and Email Data \n",
    "\n",
    "Assessing fraud cases for any company is a tedious task that requires analyses across a vast amount of data. Fortunately most companies already have access to the data they need to combat fraud: emails and financials. However, these datasets are very large; it is extremely difficult to cipher through all of the data by hand. Having a machine assist and find a potential, fraudulent person of interest (POI) would save both time and money.\n",
    "\n",
    "The email data set tested is the Enron Corpus, which can be found at (https://www.cs.cmu.edu/~./enron/). Enron was one of the top energy companies in the US in the early 2000s. The company eventually filed Bankruptcy largely due to fraudulent cases of insider trading and accounting scandals. It is one of the most noteworthy cases of fraud in the 20th century. Because of the scale of the company and the size of the email database, the Enron Corpus is a prime dataset for finding clues of fraud via financials and email."
   ]
  },
  {
   "cell_type": "code",
   "execution_count": 1,
   "metadata": {
    "collapsed": false,
    "deletable": true,
    "editable": true
   },
   "outputs": [
    {
     "name": "stderr",
     "output_type": "stream",
     "text": [
      "/home/david/.local/lib/python2.7/site-packages/sklearn/cross_validation.py:44: DeprecationWarning: This module was deprecated in version 0.18 in favor of the model_selection module into which all the refactored classes and functions are moved. Also note that the interface of the new CV iterators are different from that of this module. This module will be removed in 0.20.\n",
      "  \"This module will be removed in 0.20.\", DeprecationWarning)\n"
     ]
    }
   ],
   "source": [
    "# !/usr/bin/python\n",
    "\n",
    "import sys\n",
    "import pickle\n",
    "sys.path.append(\"../tools/\")\n",
    "\n",
    "from feature_format import featureFormat, targetFeatureSplit\n",
    "from tester import dump_classifier_and_data\n",
    "from pprint import pprint\n",
    "import numpy as np"
   ]
  },
  {
   "cell_type": "markdown",
   "metadata": {
    "deletable": true,
    "editable": true
   },
   "source": [
    "## Explore Data and Find Important Features"
   ]
  },
  {
   "cell_type": "code",
   "execution_count": 2,
   "metadata": {
    "collapsed": true,
    "deletable": true,
    "editable": true
   },
   "outputs": [],
   "source": [
    "### Task 1: Select what features you'll use.\n",
    "### features_list is a list of strings, each of which is a feature name.\n",
    "### The first feature must be \"poi\".\n",
    "\n",
    "all_features = ['poi', 'salary', 'deferral_payments', 'total_payments','loan_advances',\n",
    "                'bonus', 'restricted_stock_deferred', 'deferred_income','total_stock_value',\n",
    "                'expenses', 'exercised_stock_options', 'other','long_term_incentive',\n",
    "                'restricted_stock', 'director_fees', 'to_messages','from_poi_to_this_person',\n",
    "                'from_messages', 'from_this_person_to_poi','shared_receipt_with_poi',\n",
    "                'email_poi_score']\n",
    "\n",
    "features_list = ['poi', 'exercised_stock_options', 'total_stock_value', 'bonus']\n",
    "\n",
    "### Load the dictionary containing the dataset\n",
    "with open(\"final_project_dataset.pkl\", \"r\") as data_file:\n",
    "    data_dict = pickle.load(data_file)"
   ]
  },
  {
   "cell_type": "code",
   "execution_count": 3,
   "metadata": {
    "collapsed": false,
    "deletable": true,
    "editable": true
   },
   "outputs": [
    {
     "name": "stdout",
     "output_type": "stream",
     "text": [
      "Total Data Points: 146\n",
      "Total POIs: 18\n"
     ]
    }
   ],
   "source": [
    "# Find number of data points and total POI\n",
    "poi_list = list()\n",
    "\n",
    "for name in data_dict:\n",
    "    if data_dict[name]['poi']:\n",
    "        poi_list.append(name)\n",
    "\n",
    "print \"Total Data Points:\", len(data_dict)\n",
    "print \"Total POIs:\", len(poi_list)"
   ]
  },
  {
   "cell_type": "markdown",
   "metadata": {
    "deletable": true,
    "editable": true
   },
   "source": [
    "Initial exploration of the dataset revealed 144 data points with 18 POIs. Every data point consisted of features as mentioned above such as: salary, total_payment, to_messages, and expenses. Many of the features contained NaN values; these values were either removed or set to median/mean values when running calculations.\n",
    "\n",
    "Digging into the dataset revealed not all entries were people's names: 'SKILLING JEFFREY K' or 'LAY KENNETH L'; however both 'TOTAL' and 'THE TRAVEL AGENCY IN THE PARK' were listed as if they were actual people that worked for Enron. Because both were not living beings, I decided to remove them from calculations. "
   ]
  },
  {
   "cell_type": "code",
   "execution_count": 4,
   "metadata": {
    "collapsed": true,
    "deletable": true,
    "editable": true
   },
   "outputs": [],
   "source": [
    "### Task 2: Remove outliers\n",
    "del data_dict['TOTAL']\n",
    "del data_dict['THE TRAVEL AGENCY IN THE PARK']"
   ]
  },
  {
   "cell_type": "markdown",
   "metadata": {
    "deletable": true,
    "editable": true
   },
   "source": [
    "After removing the outliers, three additional features were calculated but were later found to be of minimal importance: percent_to_poi, percent_from_poi, and email_poi_score. \n",
    "\n",
    "The thought was to assign a score to each person signifying the capacity they were in contact with a POI. The score was calculated by summing a person's percent of emails _to_ or _from_ a POI. Again, this yielded no significant gain and was discarded as a feature."
   ]
  },
  {
   "cell_type": "code",
   "execution_count": 5,
   "metadata": {
    "collapsed": true,
    "deletable": true,
    "editable": true
   },
   "outputs": [],
   "source": [
    "### Task 3: Create new feature(s)\n",
    "\n",
    "# Create feature: email_poi_score\n",
    "# email_poi_score is the sum of percent of message data from_poi and to_poi\n",
    "def normalize_feature(feature, data_dict):\n",
    "    # initialize high and low value for normalization function\n",
    "    value_high = None\n",
    "    value_low = None\n",
    "\n",
    "    # loop through persons to find high and low values for features\n",
    "    for person in data_dict:\n",
    "        value = data_dict[person][feature]\n",
    "        if value != 'NaN':\n",
    "            # If first value in feature then assign value to variables\n",
    "            if value_low == None:\n",
    "                value_high = value\n",
    "                value_low = value\n",
    "            # look to see if value is higher or lower\n",
    "            if value > value_high:\n",
    "                value_high = value\n",
    "            elif value < value_low:\n",
    "                value_low = value\n",
    "\n",
    "    # loop to assign normalization value\n",
    "    for person in data_dict:\n",
    "        value = float(data_dict[person][feature])\n",
    "        # if value exists between high and low\n",
    "        if (value_high >= value) and (value_low <= value):\n",
    "            # if denominator isn't zero\n",
    "            if value_high != value_low:\n",
    "                value_norm = (value - value_low) / (value_high - value_low)\n",
    "                data_dict[person][feature] = value_norm\n",
    "            \n",
    "\n",
    "\n",
    "# find percent emails sent to poi and percent from poi to this person\n",
    "for person in data_dict:\n",
    "    from_messages = data_dict[person]['from_messages']\n",
    "    to_messages = data_dict[person]['to_messages']\n",
    "    from_poi = data_dict[person]['from_poi_to_this_person']\n",
    "    to_poi = data_dict[person]['from_this_person_to_poi']\n",
    "    \n",
    "    # Initialize all email_poi_score as 'NaN'\n",
    "    data_dict[person]['email_poi_score'] = 'NaN'\n",
    "\n",
    "    percent_to = float(to_poi) / float(from_messages)\n",
    "    percent_from = float(from_poi) / float(to_messages)\n",
    "\n",
    "    data_dict[person]['percent_to_poi'] = percent_to\n",
    "    data_dict[person]['percent_from_poi'] = percent_from\n",
    "\n",
    "# normailize percent_to_poi and percent_from_poi and add together\n",
    "normalize_feature('percent_to_poi', data_dict)\n",
    "normalize_feature('percent_from_poi', data_dict)\n",
    "\n",
    "# add normalized percent_to_poi and percent_from_poi to create email_poi_score\n",
    "for person in data_dict:\n",
    "    percent_to_norm = data_dict[person]['percent_to_poi']\n",
    "    percent_from_norm = data_dict[person]['percent_from_poi']\n",
    "\n",
    "    email_poi_score = percent_to_norm + percent_from_norm\n",
    "    if email_poi_score >= 0:\n",
    "        data_dict[person]['email_poi_score'] = email_poi_score\n",
    "\n",
    "\n",
    "# Normalize features, DON'T normalize poi (feature[0] is 'poi')\n",
    "for feature in features_list[1:]:\n",
    "    normalize_feature(feature, data_dict)\n",
    "\n",
    "### Store to my_dataset for easy export below.\n",
    "my_dataset = data_dict"
   ]
  },
  {
   "cell_type": "code",
   "execution_count": 6,
   "metadata": {
    "collapsed": true,
    "deletable": true,
    "editable": true
   },
   "outputs": [],
   "source": [
    "### Extract features and labels from dataset for local testing\n",
    "data = featureFormat(my_dataset, all_features, sort_keys = True)\n",
    "labels, features = targetFeatureSplit(data)"
   ]
  },
  {
   "cell_type": "markdown",
   "metadata": {
    "deletable": true,
    "editable": true
   },
   "source": [
    "##### Hand-picked Feature Selection\n",
    "\n",
    "Feature selection was initially hand-picked from visual aide via https://public.tableau.com/profile/diego2420#!/vizhome/Udacity/UdacityDashboard. Features were chosen based on visual clumping of POIs and non-POIs. \n",
    "\n",
    "Hand-picked features for determining POI:\n",
    "* exercised_stock_options (high values ~ POI)\n",
    "* deferred_income (low values ~ POI)\n",
    "* expenses (low values ~ not POI)"
   ]
  },
  {
   "cell_type": "code",
   "execution_count": 7,
   "metadata": {
    "collapsed": true,
    "deletable": true,
    "editable": true
   },
   "outputs": [],
   "source": [
    "features_handpicked = ['poi', 'exercised_stock_options', 'deferred_income', 'expenses']"
   ]
  },
  {
   "cell_type": "markdown",
   "metadata": {
    "deletable": true,
    "editable": true
   },
   "source": [
    "##### SelectKBest Feature Selection\n",
    "\n",
    "Features were also chosen using SelectKBest. Because top features can change from the randomness of training and testing the data, a tally was taken to determine which features appear in the top 3 features the most over 1000 trials.\n",
    "\n",
    "SelectKBest features for determining POI:\n",
    "* exercised_stock_option\n",
    "* total_stock_value\n",
    "* bonus\n"
   ]
  },
  {
   "cell_type": "code",
   "execution_count": 8,
   "metadata": {
    "collapsed": false,
    "deletable": true,
    "editable": true
   },
   "outputs": [
    {
     "name": "stderr",
     "output_type": "stream",
     "text": [
      "/home/david/.local/lib/python2.7/site-packages/sklearn/feature_selection/univariate_selection.py:113: UserWarning: Features [3] are constant.\n",
      "  UserWarning)\n",
      "/home/david/.local/lib/python2.7/site-packages/sklearn/feature_selection/univariate_selection.py:114: RuntimeWarning: invalid value encountered in divide\n",
      "  f = msb / msw\n"
     ]
    },
    {
     "name": "stdout",
     "output_type": "stream",
     "text": [
      "Top 3 features: \n",
      "exercised_stock_options\n",
      "total_stock_value\n",
      "bonus\n"
     ]
    }
   ],
   "source": [
    "from sklearn.feature_selection import SelectKBest, f_classif\n",
    "from sklearn import cross_validation\n",
    "from operator import add\n",
    "from heapq import nlargest\n",
    "\n",
    "# Run loop to find how many times a feature occurs in the top 3\n",
    "best_features = [0] * (len(all_features)-1)\n",
    "for i in range(1000):\n",
    "    # Create features and training labels\n",
    "    labels, features = targetFeatureSplit(data)\n",
    "    features_train, features_test, labels_train, labels_test = \\\n",
    "        cross_validation.train_test_split(features, labels, test_size=0.33)\n",
    "\n",
    "    # Generate SelectKBest with k=3 features\n",
    "    selector = SelectKBest(f_classif, k=3)\n",
    "    selector.fit(features_train, labels_train)\n",
    "    \n",
    "    # Increase score of feature if it appears in the top 3   \n",
    "    best_features = selector.get_support().astype(int) + best_features\n",
    "\n",
    "# Print the top 3 features scored by which features appeared most in top 3\n",
    "print \"Top 3 features: \"\n",
    "for e in nlargest(3, best_features):\n",
    "    for index in range(len(best_features)):\n",
    "        if e == best_features[index]:\n",
    "            print all_features[index+1]"
   ]
  },
  {
   "cell_type": "code",
   "execution_count": 9,
   "metadata": {
    "collapsed": true,
    "deletable": true,
    "editable": true
   },
   "outputs": [],
   "source": [
    "features_kbest = ['poi', 'exercised_stock_options', 'total_stock_value', 'bonus']"
   ]
  },
  {
   "cell_type": "markdown",
   "metadata": {
    "deletable": true,
    "editable": true
   },
   "source": [
    "## Classifiers\n",
    "\n",
    "To test for optimal training from the data multiple classifiers are used:\n",
    "* Decision Tree\n",
    "* Random Forest\n",
    "* Extra Trees\n",
    "* SVMs\n",
    "* GaussianNB\n",
    "\n",
    "Classifiers were tested for high scores in precision, recall, and f1. Precision is the percent of people the classifier accurately labeled as a POI. Recall is the percent of actual POIs that were correctly classified. The F1 score relates both precion and recall. F1 scores are calculated by this equation:\n",
    "\n",
    "$$ F1 = 2 * (precision * recall)  /  (precision + recall) $$\n",
    "\n",
    "Only classifiers with precsion and recall scores greater than or equal to .33 will be considered for the best overall classifier. Any of those best classifiers will then be ranked by highest f1 score.\n",
    "\n",
    "During initial testings I noticed a very high variation of all scores; classifiers that yielded high precision and recall scores may have low scores on the next test run. To counteract the high deviation of values, I wrote a test function to generate 1000 classifiers of each type and compare their average scores.\n"
   ]
  },
  {
   "cell_type": "code",
   "execution_count": 10,
   "metadata": {
    "collapsed": false,
    "deletable": true,
    "editable": true
   },
   "outputs": [],
   "source": [
    "### Task 4: Try a varity of classifiers\n",
    "### Please name your classifier clf for easy export below.\n",
    "### Note that if you want to do PCA or other multi-stage operations,\n",
    "### you'll need to use Pipelines. For more info:\n",
    "### http://scikit-learn.org/stable/modules/pipeline.html\n",
    "\n",
    "from time import time\n",
    "from sklearn.model_selection import train_test_split\n",
    "from sklearn.metrics import classification_report\n",
    "from sklearn.metrics import confusion_matrix\n",
    "from sklearn.metrics import precision_score\n",
    "from sklearn.metrics import recall_score\n",
    "from sklearn.metrics import accuracy_score\n",
    "from sklearn.model_selection import StratifiedShuffleSplit\n",
    "from pprint import pprint\n",
    "\n",
    "\n",
    "\n",
    "# Create test to find average precision and recall scores\n",
    "def test_prec_recall(name, clf_choice):\n",
    "    precision_list = list()\n",
    "    recall_list = list()\n",
    "    for i in range(1000):\n",
    "        ### Extract features and labels from dataset for local testing\n",
    "        data = featureFormat(data_dict, features_list, sort_keys = True)\n",
    "        # Create labels and features\n",
    "        labels, features = targetFeatureSplit(data)\n",
    "\n",
    "        # transform into np.array for StratifiedShuffleSplit\n",
    "        features = np.array(features)\n",
    "        labels = np.array(labels)\n",
    "\n",
    "        # Shuffle and split data into training/testing sets\n",
    "        sss = StratifiedShuffleSplit()\n",
    "        for train_index, test_index in sss.split(features, labels):\n",
    "            features_train, features_test = features[train_index], features[test_index]\n",
    "            labels_train, labels_test = labels[train_index], labels[test_index]\n",
    "\n",
    "        # Create, fit, and predict classifier\n",
    "        clf = clf_choice\n",
    "        clf.fit(features_train, labels_train)\n",
    "        labels_pred = clf.predict(features_test)\n",
    "\n",
    "        try:\n",
    "            precision = precision_score(labels_test, labels_pred)\n",
    "            recall = recall_score(labels_test, labels_pred)\n",
    "            precision_list.append(precision)\n",
    "            recall_list.append(recall)\n",
    "        except:\n",
    "            pass\n",
    "    \n",
    "    # F score is calculated via the mean precision and recall scores\n",
    "    p_score = np.mean(precision_list)\n",
    "    r_score = np.mean(recall_list)\n",
    "    f_score = 2 * (p_score * r_score) / (p_score + r_score)\n",
    "    \n",
    "    print \"\\n\" + \"#\" * 60\n",
    "    print \" \" * 20 + name + \"\\n\"\n",
    "    print \"Precision Mean Score: \", p_score\n",
    "    print \"Recall Mean Score: \", r_score\n",
    "    print \"F Score: \", f_score\n",
    "    print \"\\n\" + \"#\" * 60    "
   ]
  },
  {
   "cell_type": "markdown",
   "metadata": {},
   "source": [
    "## Classifiers (Hand-picked Features)"
   ]
  },
  {
   "cell_type": "code",
   "execution_count": 11,
   "metadata": {
    "collapsed": true,
    "deletable": true,
    "editable": true
   },
   "outputs": [],
   "source": [
    "### Extract features and labels from dataset for local testing\n",
    "data = featureFormat(my_dataset, features_handpicked, sort_keys = True)\n",
    "labels, features = targetFeatureSplit(data)"
   ]
  },
  {
   "cell_type": "markdown",
   "metadata": {
    "deletable": true,
    "editable": true
   },
   "source": [
    "##### Classifiers: Decision Tree (Hand-picked)"
   ]
  },
  {
   "cell_type": "code",
   "execution_count": 12,
   "metadata": {
    "collapsed": false,
    "deletable": true,
    "editable": true
   },
   "outputs": [
    {
     "name": "stderr",
     "output_type": "stream",
     "text": [
      "/home/david/.local/lib/python2.7/site-packages/sklearn/metrics/classification.py:1113: UndefinedMetricWarning: F-score is ill-defined and being set to 0.0 due to no predicted samples.\n",
      "  'precision', 'predicted', average, warn_for)\n"
     ]
    }
   ],
   "source": [
    "from sklearn.pipeline import Pipeline\n",
    "from sklearn.preprocessing import StandardScaler\n",
    "from sklearn.decomposition import PCA\n",
    "from sklearn.preprocessing import Imputer\n",
    "from sklearn.tree import DecisionTreeClassifier\n",
    "\n",
    "pipeline_dt = Pipeline([\n",
    "    ('pca', PCA()),\n",
    "    ('imp', Imputer()),\n",
    "    ('clf', DecisionTreeClassifier(random_state = 49)),\n",
    "])\n",
    "\n",
    "param_grid_dt = {'pca__n_components': [2,3],\n",
    "                 'imp__strategy': ['median', 'mean'],\n",
    "                 'clf__min_samples_split': [2,3,5],\n",
    "                 'clf__max_depth': [None,2,3],\n",
    "                 }        \n",
    "\n",
    "cross_validator = StratifiedShuffleSplit(random_state = 0)\n",
    "\n",
    "\n",
    "from sklearn.model_selection import GridSearchCV\n",
    "gridCV_object_dt = GridSearchCV(estimator = pipeline_dt,\n",
    "                                param_grid = param_grid_dt,\n",
    "                                scoring = 'f1',\n",
    "                                cv=cross_validator)\n",
    "\n",
    "gridCV_object_dt = gridCV_object_dt.fit(features_train, labels_train)"
   ]
  },
  {
   "cell_type": "code",
   "execution_count": 13,
   "metadata": {
    "collapsed": false,
    "deletable": true,
    "editable": true,
    "scrolled": true
   },
   "outputs": [
    {
     "name": "stderr",
     "output_type": "stream",
     "text": [
      "/home/david/.local/lib/python2.7/site-packages/sklearn/metrics/classification.py:1113: UndefinedMetricWarning: Precision is ill-defined and being set to 0.0 due to no predicted samples.\n",
      "  'precision', 'predicted', average, warn_for)\n"
     ]
    },
    {
     "name": "stdout",
     "output_type": "stream",
     "text": [
      "\n",
      "############################################################\n",
      "                    Decision Tree: Hand-picked\n",
      "\n",
      "Precision Mean Score:  0.391252380952\n",
      "Recall Mean Score:  0.4\n",
      "F Score:  0.395577836221\n",
      "\n",
      "############################################################\n"
     ]
    }
   ],
   "source": [
    "test_prec_recall(\"Decision Tree: Hand-picked\", gridCV_object_dt.best_estimator_)"
   ]
  },
  {
   "cell_type": "markdown",
   "metadata": {
    "deletable": true,
    "editable": true
   },
   "source": [
    "##### Classifiers: Random Forest (Hand-picked)"
   ]
  },
  {
   "cell_type": "code",
   "execution_count": 14,
   "metadata": {
    "collapsed": false,
    "deletable": true,
    "editable": true
   },
   "outputs": [],
   "source": [
    "from sklearn.ensemble import RandomForestClassifier\n",
    "\n",
    "pipeline_rfhp = Pipeline([\n",
    "    ('pca', PCA()),\n",
    "    ('imp', Imputer()),\n",
    "    ('clf', RandomForestClassifier(random_state = 49)),\n",
    "])\n",
    "\n",
    "param_grid_rfhp = {'pca__n_components': [2,3],\n",
    "                 'imp__strategy': ['median', 'mean'],\n",
    "                 'clf__n_estimators': [5,10,20],\n",
    "                 'clf__min_samples_split': [2,5],\n",
    "                 'clf__max_depth': [None,2,3],\n",
    "                 }        \n",
    "\n",
    "cross_validator = StratifiedShuffleSplit(random_state = 0)\n",
    "\n",
    "gridCV_object_rfhp = GridSearchCV(estimator = pipeline_rfhp,\n",
    "                                param_grid = param_grid_rfhp,\n",
    "                                scoring = 'f1',\n",
    "                                cv=cross_validator)\n",
    "\n",
    "gridCV_object_rfhp = gridCV_object_rfhp.fit(features_train, labels_train)"
   ]
  },
  {
   "cell_type": "code",
   "execution_count": 15,
   "metadata": {
    "collapsed": false,
    "deletable": true,
    "editable": true
   },
   "outputs": [
    {
     "name": "stdout",
     "output_type": "stream",
     "text": [
      "\n",
      "############################################################\n",
      "                    Random Forest: Hand-picked\n",
      "\n",
      "Precision Mean Score:  0.38880952381\n",
      "Recall Mean Score:  0.3205\n",
      "F Score:  0.351365513074\n",
      "\n",
      "############################################################\n"
     ]
    }
   ],
   "source": [
    "test_prec_recall(\"Random Forest: Hand-picked\", gridCV_object_rfhp.best_estimator_)"
   ]
  },
  {
   "cell_type": "markdown",
   "metadata": {
    "deletable": true,
    "editable": true
   },
   "source": [
    "##### Classifiers: Extra Trees (Hand-picked)"
   ]
  },
  {
   "cell_type": "code",
   "execution_count": 16,
   "metadata": {
    "collapsed": false,
    "deletable": true,
    "editable": true
   },
   "outputs": [],
   "source": [
    "from sklearn.ensemble import ExtraTreesClassifier\n",
    "\n",
    "pipeline_ethp = Pipeline([\n",
    "    ('pca', PCA()),\n",
    "    ('imp', Imputer()),\n",
    "    ('clf', ExtraTreesClassifier(random_state = 49)),\n",
    "])\n",
    "\n",
    "param_grid_ethp = {'pca__n_components': [2,3],\n",
    "                 'imp__strategy': ['median', 'mean'],\n",
    "                 'clf__n_estimators': [5,10,20],\n",
    "                 'clf__min_samples_split': [2,5],\n",
    "                 'clf__max_depth': [None,2,3],\n",
    "                 }        \n",
    "\n",
    "cross_validator = StratifiedShuffleSplit(random_state = 0)\n",
    "\n",
    "gridCV_object_ethp = GridSearchCV(estimator = pipeline_ethp,\n",
    "                                param_grid = param_grid_ethp,\n",
    "                                scoring = 'f1',\n",
    "                                cv=cross_validator)\n",
    "\n",
    "gridCV_object_ethp = gridCV_object_ethp.fit(features_train, labels_train)"
   ]
  },
  {
   "cell_type": "code",
   "execution_count": 17,
   "metadata": {
    "collapsed": false,
    "deletable": true,
    "editable": true
   },
   "outputs": [
    {
     "name": "stdout",
     "output_type": "stream",
     "text": [
      "\n",
      "############################################################\n",
      "                    Extra Tree: Hand-picked\n",
      "\n",
      "Precision Mean Score:  0.331435714286\n",
      "Recall Mean Score:  0.281\n",
      "F Score:  0.304141099357\n",
      "\n",
      "############################################################\n"
     ]
    }
   ],
   "source": [
    "test_prec_recall(\"Extra Tree: Hand-picked\", gridCV_object_ethp.best_estimator_)"
   ]
  },
  {
   "cell_type": "markdown",
   "metadata": {
    "deletable": true,
    "editable": true
   },
   "source": [
    "##### Classifiers: SVMs (Hand-picked)"
   ]
  },
  {
   "cell_type": "code",
   "execution_count": 18,
   "metadata": {
    "collapsed": false,
    "deletable": true,
    "editable": true
   },
   "outputs": [],
   "source": [
    "from sklearn.svm import SVC\n",
    "\n",
    "pipeline_svchp = Pipeline([\n",
    "    ('imp', Imputer()),\n",
    "    ('clf', SVC())\n",
    "])\n",
    "\n",
    "param_grid_svchp = {'imp__strategy': ['median', 'mean'],\n",
    "                  'clf__C': [10,50,100],\n",
    "                  'clf__kernel': ['rbf', 'poly'],\n",
    "                 }\n",
    "\n",
    "cross_validator = StratifiedShuffleSplit(random_state = 0)\n",
    "\n",
    "gridCV_object_svchp = GridSearchCV(estimator = pipeline_svchp,\n",
    "                                 param_grid = param_grid_svchp,\n",
    "                                 scoring = 'f1',\n",
    "                                 cv = cross_validator)\n",
    "\n",
    "gridCV_object_svchp = gridCV_object_svchp.fit(features_train, labels_train)"
   ]
  },
  {
   "cell_type": "code",
   "execution_count": 19,
   "metadata": {
    "collapsed": false,
    "deletable": true,
    "editable": true
   },
   "outputs": [
    {
     "name": "stdout",
     "output_type": "stream",
     "text": [
      "\n",
      "############################################################\n",
      "                    SVM: Hand-picked\n",
      "\n",
      "Precision Mean Score:  0.127\n",
      "Recall Mean Score:  0.0635\n",
      "F Score:  0.0846666666667\n",
      "\n",
      "############################################################\n"
     ]
    }
   ],
   "source": [
    "test_prec_recall(\"SVM: Hand-picked\", gridCV_object_svchp.best_estimator_)"
   ]
  },
  {
   "cell_type": "markdown",
   "metadata": {
    "deletable": true,
    "editable": true
   },
   "source": [
    "##### Classifiers: Naive Bayes (Hand-picked)"
   ]
  },
  {
   "cell_type": "code",
   "execution_count": 20,
   "metadata": {
    "collapsed": false,
    "deletable": true,
    "editable": true
   },
   "outputs": [],
   "source": [
    "##### Naive Bayes #####\n",
    "\n",
    "from sklearn.naive_bayes import GaussianNB\n",
    "\n",
    "pipeline_nbhp = Pipeline([\n",
    "    ('pca', PCA()),\n",
    "    ('imp', Imputer()),\n",
    "    ('clf', GaussianNB())\n",
    "])\n",
    "\n",
    "param_grid_nbhp = {'pca__n_components': [1,2,3],\n",
    "                 'imp__strategy': ['median', 'mean'],\n",
    "                 }\n",
    "\n",
    "cross_validator = StratifiedShuffleSplit(random_state = 0)\n",
    "\n",
    "gridCV_object_nbhp = GridSearchCV(estimator = pipeline_nbhp,\n",
    "                                 param_grid = param_grid_nbhp,\n",
    "                                 scoring = 'f1',\n",
    "                                 cv = cross_validator)\n",
    "\n",
    "gridCV_object_svc = gridCV_object_nbhp.fit(features_train, labels_train)"
   ]
  },
  {
   "cell_type": "code",
   "execution_count": 21,
   "metadata": {
    "collapsed": false,
    "deletable": true,
    "editable": true,
    "scrolled": true
   },
   "outputs": [
    {
     "name": "stdout",
     "output_type": "stream",
     "text": [
      "\n",
      "############################################################\n",
      "                    Naive Bayes: Hand-picked\n",
      "\n",
      "Precision Mean Score:  0.331316666667\n",
      "Recall Mean Score:  0.2215\n",
      "F Score:  0.265500829087\n",
      "\n",
      "############################################################\n"
     ]
    }
   ],
   "source": [
    "test_prec_recall(\"Naive Bayes: Hand-picked\", gridCV_object_nbhp.best_estimator_)"
   ]
  },
  {
   "cell_type": "markdown",
   "metadata": {},
   "source": [
    "### Classifiers: Hand-picked Summary\n",
    "\n",
    "The Decision Tree classifier is the only one to meet the criteria of having precision and recall scores greater than .33. By default the **Decision Tree classifier** is the best of the **hand-picked** feature testing with an **F score of .3956**.\n",
    "\n",
    "The Random Forest classifier should be noted here; all scores were comparable to the Decision Tree scores however the Random Forest recall score was too low at a value of .3205."
   ]
  },
  {
   "cell_type": "markdown",
   "metadata": {
    "deletable": true,
    "editable": true
   },
   "source": [
    "## Classifiers (SelectKBest Features)"
   ]
  },
  {
   "cell_type": "code",
   "execution_count": 22,
   "metadata": {
    "collapsed": false,
    "deletable": true,
    "editable": true
   },
   "outputs": [],
   "source": [
    "### Extract features and labels from dataset for local testing\n",
    "data = featureFormat(my_dataset, features_kbest, sort_keys = True)\n",
    "labels, features = targetFeatureSplit(data)"
   ]
  },
  {
   "cell_type": "markdown",
   "metadata": {
    "deletable": true,
    "editable": true
   },
   "source": [
    "##### Classifiers: Decision Tree (SelectKBest)"
   ]
  },
  {
   "cell_type": "code",
   "execution_count": 23,
   "metadata": {
    "collapsed": false,
    "deletable": true,
    "editable": true
   },
   "outputs": [],
   "source": [
    "pipeline_dtsk = Pipeline([\n",
    "    ('pca', PCA()),\n",
    "    ('imp', Imputer()),\n",
    "    ('clf', DecisionTreeClassifier(random_state = 49)),\n",
    "])\n",
    "\n",
    "param_grid_dtsk = {'pca__n_components': [2,3],\n",
    "                 'imp__strategy': ['median', 'mean'],\n",
    "                 'clf__min_samples_split': [2,3,5],\n",
    "                 'clf__max_depth': [None,2,3],\n",
    "                 }        \n",
    "\n",
    "cross_validator = StratifiedShuffleSplit(random_state = 0)\n",
    "\n",
    "gridCV_object_dtsk = GridSearchCV(estimator = pipeline_dtsk,\n",
    "                                param_grid = param_grid_dtsk,\n",
    "                                scoring = 'f1',\n",
    "                                cv=cross_validator)\n",
    "\n",
    "gridCV_object_dtsk = gridCV_object_dtsk.fit(features_train, labels_train)"
   ]
  },
  {
   "cell_type": "code",
   "execution_count": 24,
   "metadata": {
    "collapsed": false,
    "deletable": true,
    "editable": true,
    "scrolled": true
   },
   "outputs": [
    {
     "name": "stdout",
     "output_type": "stream",
     "text": [
      "\n",
      "############################################################\n",
      "                    Decision Tree: SelectKBest\n",
      "\n",
      "Precision Mean Score:  0.397788095238\n",
      "Recall Mean Score:  0.407\n",
      "F Score:  0.40234132617\n",
      "\n",
      "############################################################\n"
     ]
    }
   ],
   "source": [
    "test_prec_recall(\"Decision Tree: SelectKBest\", gridCV_object_dtsk.best_estimator_)"
   ]
  },
  {
   "cell_type": "markdown",
   "metadata": {
    "deletable": true,
    "editable": true
   },
   "source": [
    "##### Classifiers: Random Forest (SelectKBest)"
   ]
  },
  {
   "cell_type": "code",
   "execution_count": 25,
   "metadata": {
    "collapsed": false,
    "deletable": true,
    "editable": true
   },
   "outputs": [],
   "source": [
    "pipeline_rfsk = Pipeline([\n",
    "    ('pca', PCA()),\n",
    "    ('imp', Imputer()),\n",
    "    ('clf', RandomForestClassifier(random_state = 49)),\n",
    "])\n",
    "\n",
    "param_grid_rfsk = {'pca__n_components': [2,3],\n",
    "                 'imp__strategy': ['median', 'mean'],\n",
    "                 'clf__n_estimators': [5,10,20],\n",
    "                 'clf__min_samples_split': [2,3,5],\n",
    "                 'clf__max_depth': [None,2,3],\n",
    "                 }        \n",
    "\n",
    "cross_validator = StratifiedShuffleSplit(random_state = 0)\n",
    "\n",
    "gridCV_object_rfsk = GridSearchCV(estimator = pipeline_rfsk,\n",
    "                                param_grid = param_grid_rfsk,\n",
    "                                scoring = 'f1',\n",
    "                                cv=cross_validator)\n",
    "\n",
    "gridCV_object_rfsk = gridCV_object_rfsk.fit(features_train, labels_train)"
   ]
  },
  {
   "cell_type": "code",
   "execution_count": 26,
   "metadata": {
    "collapsed": false,
    "deletable": true,
    "editable": true
   },
   "outputs": [
    {
     "name": "stdout",
     "output_type": "stream",
     "text": [
      "\n",
      "############################################################\n",
      "                    Random Forest: SelectKBest\n",
      "\n",
      "Precision Mean Score:  0.375326190476\n",
      "Recall Mean Score:  0.304\n",
      "F Score:  0.335918630856\n",
      "\n",
      "############################################################\n"
     ]
    }
   ],
   "source": [
    "test_prec_recall(\"Random Forest: SelectKBest\", gridCV_object_rfsk.best_estimator_)"
   ]
  },
  {
   "cell_type": "markdown",
   "metadata": {
    "deletable": true,
    "editable": true
   },
   "source": [
    "##### Classifiers: Extra Trees (SelectKBest)"
   ]
  },
  {
   "cell_type": "code",
   "execution_count": 27,
   "metadata": {
    "collapsed": false,
    "deletable": true,
    "editable": true
   },
   "outputs": [],
   "source": [
    "pipeline_etsk = Pipeline([\n",
    "    ('pca', PCA()),\n",
    "    ('imp', Imputer()),\n",
    "    ('clf', ExtraTreesClassifier(random_state = 49)),\n",
    "])\n",
    "\n",
    "param_grid_etsk = {'pca__n_components': [2,3],\n",
    "                 'imp__strategy': ['median', 'mean'],\n",
    "                 'clf__n_estimators': [5,10,20],\n",
    "                 'clf__min_samples_split': [2,3,5],\n",
    "                 'clf__max_depth': [None,2,3],\n",
    "                 }        \n",
    "\n",
    "cross_validator = StratifiedShuffleSplit(random_state = 0)\n",
    "\n",
    "gridCV_object_etsk = GridSearchCV(estimator = pipeline_etsk,\n",
    "                                param_grid = param_grid_etsk,\n",
    "                                scoring = 'f1',\n",
    "                                cv=cross_validator)\n",
    "\n",
    "gridCV_object_etsk = gridCV_object_etsk.fit(features_train, labels_train)"
   ]
  },
  {
   "cell_type": "code",
   "execution_count": 28,
   "metadata": {
    "collapsed": false,
    "deletable": true,
    "editable": true
   },
   "outputs": [
    {
     "name": "stdout",
     "output_type": "stream",
     "text": [
      "\n",
      "############################################################\n",
      "                    Extra Tree: SelectKBest\n",
      "\n",
      "Precision Mean Score:  0.321566666667\n",
      "Recall Mean Score:  0.2755\n",
      "F Score:  0.296756196963\n",
      "\n",
      "############################################################\n"
     ]
    }
   ],
   "source": [
    "test_prec_recall(\"Extra Tree: SelectKBest\", gridCV_object_etsk.best_estimator_)"
   ]
  },
  {
   "cell_type": "markdown",
   "metadata": {
    "deletable": true,
    "editable": true
   },
   "source": [
    "##### Classifiers: SVMs (SelectKBest)"
   ]
  },
  {
   "cell_type": "code",
   "execution_count": 29,
   "metadata": {
    "collapsed": false,
    "deletable": true,
    "editable": true
   },
   "outputs": [],
   "source": [
    "pipeline_svcsk = Pipeline([\n",
    "    ('imp', Imputer()),\n",
    "    ('clf', SVC())\n",
    "])\n",
    "\n",
    "param_grid_svcsk = {'imp__strategy': ['median', 'mean'],\n",
    "                  'clf__C': [10,50,100],\n",
    "                  'clf__kernel': ['rbf', 'poly'],\n",
    "                 }\n",
    "\n",
    "cross_validator = StratifiedShuffleSplit(random_state = 0)\n",
    "\n",
    "gridCV_object_svcsk = GridSearchCV(estimator = pipeline_svcsk,\n",
    "                                 param_grid = param_grid_svcsk,\n",
    "                                 scoring = 'f1',\n",
    "                                 cv = cross_validator)\n",
    "\n",
    "gridCV_object_svcsk = gridCV_object_svcsk.fit(features_train, labels_train)"
   ]
  },
  {
   "cell_type": "code",
   "execution_count": 30,
   "metadata": {
    "collapsed": false,
    "deletable": true,
    "editable": true
   },
   "outputs": [
    {
     "name": "stdout",
     "output_type": "stream",
     "text": [
      "\n",
      "############################################################\n",
      "                    SVM: SelectKBest\n",
      "\n",
      "Precision Mean Score:  0.099\n",
      "Recall Mean Score:  0.0495\n",
      "F Score:  0.066\n",
      "\n",
      "############################################################\n"
     ]
    }
   ],
   "source": [
    "test_prec_recall(\"SVM: SelectKBest\", gridCV_object_svcsk.best_estimator_)"
   ]
  },
  {
   "cell_type": "markdown",
   "metadata": {
    "deletable": true,
    "editable": true
   },
   "source": [
    "##### Classifiers: Naive Bayes (SelectKBest)"
   ]
  },
  {
   "cell_type": "code",
   "execution_count": 31,
   "metadata": {
    "collapsed": false,
    "deletable": true,
    "editable": true
   },
   "outputs": [],
   "source": [
    "pipeline_nbsk = Pipeline([\n",
    "    ('pca', PCA()),\n",
    "    ('imp', Imputer()),\n",
    "    ('clf', GaussianNB())\n",
    "])\n",
    "\n",
    "param_grid_nbsk = {'pca__n_components': [1,2,3],\n",
    "                 'imp__strategy': ['median', 'mean'],\n",
    "                 }\n",
    "\n",
    "cross_validator = StratifiedShuffleSplit(random_state = 0)\n",
    "\n",
    "gridCV_object_nbsk = GridSearchCV(estimator = pipeline_nbsk,\n",
    "                                 param_grid = param_grid_nbsk,\n",
    "                                 scoring = 'f1',\n",
    "                                 cv = cross_validator)\n",
    "\n",
    "gridCV_object_svcsk = gridCV_object_nbsk.fit(features_train, labels_train)"
   ]
  },
  {
   "cell_type": "code",
   "execution_count": 32,
   "metadata": {
    "collapsed": false,
    "deletable": true,
    "editable": true,
    "scrolled": true
   },
   "outputs": [
    {
     "name": "stdout",
     "output_type": "stream",
     "text": [
      "\n",
      "############################################################\n",
      "                    Naive Bayes: SelectKBest\n",
      "\n",
      "Precision Mean Score:  0.35775\n",
      "Recall Mean Score:  0.2315\n",
      "F Score:  0.28110012728\n",
      "\n",
      "############################################################\n"
     ]
    }
   ],
   "source": [
    "test_prec_recall(\"Naive Bayes: SelectKBest\", gridCV_object_svcsk.best_estimator_)"
   ]
  },
  {
   "cell_type": "markdown",
   "metadata": {},
   "source": [
    "### Classifiers: SelectKBest Summary\n",
    "\n",
    "Again, the Decision Tree classifier is the only one to exceed the criteria of having precision and recall scores greater than .33. By default the **Decision Tree** classifier is the best of the **selectkbest** feature testing with an **F score of .4023**."
   ]
  },
  {
   "cell_type": "markdown",
   "metadata": {
    "deletable": true,
    "editable": true
   },
   "source": [
    "#### Classifiers: Hand-picked vs. SelectKBest Summary\n",
    "\n",
    "The classifier chosen as best across both hand-picked and selectkbest is the Decision Tree classifier. It maintains higher precision, recall, and F1 scores. Although other classifiers may obtain higher individual precision or recall scores no other classifiers appear to be a better all-around compared to DecisionTree.\n",
    "\n",
    "Although the two features selection methods were very close, the selectkbest features of obtained a slightly higher f1 score. Again, the selectkbest features are:\n",
    "* exercised_stock_option\n",
    "* total_stock_value\n",
    "* bonus\n"
   ]
  },
  {
   "cell_type": "markdown",
   "metadata": {
    "deletable": true,
    "editable": true
   },
   "source": [
    "### Parameters\n",
    "\n",
    "Multiple attempts were made to tune the SVM classifier. Two kernals were tested('rbf' and 'poly') along with varying C values from 1 - 1000. Trials to maximize SVM ceased when it appeared the classifier would never outclass either DecisionTree or GaussianNB. \n",
    "\n",
    "The DecisionTree paramenter 'criterion' was test for both 'gini' (default) and 'entropy'. Although close, 'entropy' introduced more deviation (results below) and was not used in the final calculation. \n",
    "~~~\n",
    "############################################################\n",
    "                    Decision Tree (criterion='entropy')\n",
    "\n",
    "Precision Mean:  0.414058344433\n",
    "Recall Mean:  0.383863888889\n",
    "STD_sum:  0.46693555759\n",
    "############################################################\n",
    "~~~"
   ]
  },
  {
   "cell_type": "code",
   "execution_count": 34,
   "metadata": {
    "collapsed": true,
    "deletable": true,
    "editable": true
   },
   "outputs": [],
   "source": [
    "### Task 5: Tune your classifier to achieve better than .3 precision and recall\n",
    "### using our testing script. Check the tester.py script in the final project\n",
    "### folder for details on the evaluation method, especially the test_classifier\n",
    "### function. Because of the small size of the dataset, the script uses\n",
    "### stratified shuffle split cross validation. For more info:\n",
    "### http://scikit-learn.org/stable/modules/generated/sklearn.cross_validation.StratifiedShuffleSplit.html\n",
    "\n",
    "# Example starting point. Try investigating other evaluation techniques!\n",
    "from sklearn.model_selection import train_test_split\n",
    "features_train, features_test, labels_train, labels_test = train_test_split(\n",
    "    features, labels, test_size=0.33)"
   ]
  },
  {
   "cell_type": "markdown",
   "metadata": {
    "deletable": true,
    "editable": true
   },
   "source": [
    "### Validation\n",
    "\n",
    "Validated data is \n",
    "\n",
    "Validation is usually overcome by splitting the data into training and testing sets. A training size too large can overfit the classifier causing low testing results, whereas a trianing size too low can underfit the classfier, again, causing low testing results.  \n",
    "\n",
    "The Enron Corpus was split into both training (33%) and testing (67%) via function train_test_split with 'test_size = .33'. This essentially trains the data multiple times over different partitions of the dataset using the leftover data for testing and scoring.\n",
    "\n",
    "### Summary\n",
    "\n",
    "The Enron Corpus is one of the largest datasets on fraud. Although the dataset isn't vast, a DecisionTree classifier appears to be a strong option in predicting fraud, followed closely by GaussianNB. Additional/different features for higher precision and recall scores are desired; the current scores appear mediocre but the classifier has potential to be a starting point for detecting fraud.  \n",
    "\n",
    "#### References\n",
    "\n",
    "Feature Visualization:\n",
    "https://public.tableau.com/profile/diego2420#!/vizhome/Udacity/UdacityDashboard\n",
    "\n",
    "Forum Postings:\n",
    "https://discussions.udacity.com/t/getting-started-with-final-project/170846\n",
    "\n",
    "When to chose which machine learning classifier?\n",
    "http://stackoverflow.com/questions/2595176/when-to-choose-which-machine-learning-classifier"
   ]
  },
  {
   "cell_type": "code",
   "execution_count": 35,
   "metadata": {
    "collapsed": true,
    "deletable": true,
    "editable": true
   },
   "outputs": [],
   "source": [
    "### Task 6: Dump your classifier, dataset, and features_list so anyone can\n",
    "### check your results. You do not need to change anything below, but make sure\n",
    "### that the version of poi_id.py that you submit can be run on its own and\n",
    "### generates the necessary .pkl files for validating your results.\n",
    "\n",
    "dump_classifier_and_data(gridCV_object_dtsk.best_estimator_, my_dataset, features_kbest)"
   ]
  },
  {
   "cell_type": "code",
   "execution_count": null,
   "metadata": {
    "collapsed": true,
    "deletable": true,
    "editable": true
   },
   "outputs": [],
   "source": []
  }
 ],
 "metadata": {
  "kernelspec": {
   "display_name": "Python 2",
   "language": "python",
   "name": "python2"
  },
  "language_info": {
   "codemirror_mode": {
    "name": "ipython",
    "version": 2
   },
   "file_extension": ".py",
   "mimetype": "text/x-python",
   "name": "python",
   "nbconvert_exporter": "python",
   "pygments_lexer": "ipython2",
   "version": "2.7.12"
  }
 },
 "nbformat": 4,
 "nbformat_minor": 2
}
