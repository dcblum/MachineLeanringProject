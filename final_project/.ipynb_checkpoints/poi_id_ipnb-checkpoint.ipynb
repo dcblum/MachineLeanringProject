{
 "cells": [
  {
   "cell_type": "markdown",
   "metadata": {
    "deletable": true,
    "editable": true
   },
   "source": [
    "# Machine Learning With Enron Corpus\n",
    "\n",
    "## Goal: Use Machine Learning to Assess Fraud from Financial and Email Data \n",
    "\n",
    "Assessing fraud cases for any company is a tedious task that requires analyses across a vast amount of data. Fortunately most companies already have access to the data they need to combat fraud: emails and financials. However, these datasets are very large; it is extremely difficult to cipher through all of the data by hand. Having a machine assist and find a potential, fraudulent person of interest (POI) would save both time and money.\n",
    "\n",
    "The email data set tested is the Enron Corpus, which can be found at (https://www.cs.cmu.edu/~./enron/). Enron was one of the top energy companies in the US in the early 2000s. The company eventually filed Bankruptcy largely due to fraudulent cases of insider trading and accounting scandals. It is one of the most noteworthy cases of fraud in the 20th century. Because of the scale of the company and the size of the email database, the Enron Corpus is a prime dataset for finding clues of fraud via financials and email."
   ]
  },
  {
   "cell_type": "code",
   "execution_count": 1,
   "metadata": {
    "collapsed": false,
    "deletable": true,
    "editable": true
   },
   "outputs": [
    {
     "name": "stderr",
     "output_type": "stream",
     "text": [
      "/home/david/.local/lib/python2.7/site-packages/sklearn/cross_validation.py:44: DeprecationWarning: This module was deprecated in version 0.18 in favor of the model_selection module into which all the refactored classes and functions are moved. Also note that the interface of the new CV iterators are different from that of this module. This module will be removed in 0.20.\n",
      "  \"This module will be removed in 0.20.\", DeprecationWarning)\n"
     ]
    }
   ],
   "source": [
    "# !/usr/bin/python\n",
    "\n",
    "import sys\n",
    "import pickle\n",
    "sys.path.append(\"../tools/\")\n",
    "\n",
    "from feature_format import featureFormat, targetFeatureSplit\n",
    "from tester import dump_classifier_and_data\n",
    "from pprint import pprint\n",
    "import numpy as np"
   ]
  },
  {
   "cell_type": "markdown",
   "metadata": {
    "deletable": true,
    "editable": true
   },
   "source": [
    "## Explore Data and Find Important Features"
   ]
  },
  {
   "cell_type": "code",
   "execution_count": 2,
   "metadata": {
    "collapsed": true,
    "deletable": true,
    "editable": true
   },
   "outputs": [],
   "source": [
    "### Task 1: Select what features you'll use.\n",
    "### features_list is a list of strings, each of which is a feature name.\n",
    "### The first feature must be \"poi\".\n",
    "\n",
    "all_features = ['poi', 'loan_advances', 'director_fees', 'restricted_stock_deferred',\n",
    "               'deferral_payments', 'deferred_income', 'long_term_incentive', 'bonus', \n",
    "               'from_poi_to_this_person', 'shared_receipt_with_poi', 'to_messages',\n",
    "               'from_this_person_to_poi', 'to_messages', 'from_this_person_to_poi',\n",
    "               'from_messages', 'other', 'expenses', 'salary', 'exercised_stock_options',\n",
    "               'restricted_stock', 'total_payments', 'total_stock_value', 'email_address']\n",
    "\n",
    "### Load the dictionary containing the dataset\n",
    "with open(\"final_project_dataset.pkl\", \"r\") as data_file:\n",
    "    data_dict = pickle.load(data_file)"
   ]
  },
  {
   "cell_type": "code",
   "execution_count": 3,
   "metadata": {
    "collapsed": false,
    "deletable": true,
    "editable": true
   },
   "outputs": [
    {
     "name": "stdout",
     "output_type": "stream",
     "text": [
      "Total Data Points: 146\n",
      "Total POIs: 18\n"
     ]
    }
   ],
   "source": [
    "# Find number of data points and total POI\n",
    "poi_list = list()\n",
    "\n",
    "for name in data_dict:\n",
    "    if data_dict[name]['poi']:\n",
    "        poi_list.append(name)\n",
    "\n",
    "print \"Total Data Points:\", len(data_dict)\n",
    "print \"Total POIs:\", len(poi_list)"
   ]
  },
  {
   "cell_type": "code",
   "execution_count": 4,
   "metadata": {
    "collapsed": false,
    "deletable": true,
    "editable": true
   },
   "outputs": [
    {
     "name": "stdout",
     "output_type": "stream",
     "text": [
      "\n",
      "Percent NaN Values:\n",
      "loan_advances                0.972603\n",
      "director_fees                0.883562\n",
      "restricted_stock_deferred    0.876712\n",
      "deferral_payments            0.732877\n",
      "deferred_income              0.664384\n",
      "long_term_incentive          0.547945\n",
      "bonus                        0.438356\n",
      "from_poi_to_this_person      0.410959\n",
      "shared_receipt_with_poi      0.410959\n",
      "to_messages                  0.410959\n",
      "from_this_person_to_poi      0.410959\n",
      "from_messages                0.410959\n",
      "other                        0.363014\n",
      "expenses                     0.349315\n",
      "salary                       0.349315\n",
      "exercised_stock_options      0.301370\n",
      "restricted_stock             0.246575\n",
      "total_payments               0.143836\n",
      "total_stock_value            0.136986\n",
      "email_address                0.000000\n",
      "poi                          0.000000\n",
      "dtype: float64\n"
     ]
    }
   ],
   "source": [
    "import pandas as pd\n",
    "data_dict = pickle.load(open(\"final_project_dataset.pkl\", \"r\"))\n",
    "df = pd.DataFrame.from_dict(data_dict, orient='index', dtype = np.float)\n",
    "percent_nan_list = df.isnull().sum() / (df.isnull().sum() + df.notnull().sum())\n",
    "print \"\\nPercent NaN Values:\\n\", percent_nan_list.sort_values(ascending = False)"
   ]
  },
  {
   "cell_type": "markdown",
   "metadata": {
    "deletable": true,
    "editable": true
   },
   "source": [
    "Initial exploration of the dataset revealed 146 data points with 18 POIs. Every data point consisted of features as mentioned above such as: salary, total_payment, to_messages, and expenses. \n",
    "\n",
    "Most features in the Enron Corpus contain NaN values, and these NaN values make up greater than 40% of most features. NaN values represent a lack of information and weaken the overall influence and accuracy of a feature when testing for fraud in the database. There are multiple methods to handle NaN values; in this project NaN values were changed to be either the mean or median by use of a GridCV object and the Imputer function.\n",
    "\n",
    "Features with higher than 80% were not used in calculations. "
   ]
  },
  {
   "cell_type": "code",
   "execution_count": 5,
   "metadata": {
    "collapsed": true,
    "deletable": true,
    "editable": true
   },
   "outputs": [],
   "source": [
    "features_list = ['poi', 'salary', 'total_payments','bonus', 'deferred_income','total_stock_value',\n",
    "                'expenses', 'exercised_stock_options', 'other','long_term_incentive',\n",
    "                'restricted_stock', 'to_messages','from_poi_to_this_person',\n",
    "                'from_messages', 'from_this_person_to_poi','shared_receipt_with_poi',\n",
    "                'email_poi_score']"
   ]
  },
  {
   "cell_type": "markdown",
   "metadata": {
    "deletable": true,
    "editable": true
   },
   "source": [
    "Digging into the dataset revealed not all entries were people's names: 'SKILLING JEFFREY K' or 'LAY KENNETH L'; however both 'TOTAL' and 'THE TRAVEL AGENCY IN THE PARK' were listed as if they were actual people that worked for Enron. Because both were not living beings, I decided to remove them from calculations. "
   ]
  },
  {
   "cell_type": "code",
   "execution_count": 6,
   "metadata": {
    "collapsed": false,
    "deletable": true,
    "editable": true
   },
   "outputs": [],
   "source": [
    "### Task 2: Remove outliers\n",
    "del data_dict['TOTAL']\n",
    "del data_dict['THE TRAVEL AGENCY IN THE PARK']"
   ]
  },
  {
   "cell_type": "markdown",
   "metadata": {
    "deletable": true,
    "editable": true
   },
   "source": [
    "After removing the outliers, three additional features were calculated but were later found to be of minimal importance: percent_to_poi, percent_from_poi, and email_poi_score. \n",
    "\n",
    "The thought was to assign a score to each person signifying the capacity they were in contact with a POI. The score was calculated by summing a person's percent of emails _to_ or _from_ a POI. "
   ]
  },
  {
   "cell_type": "code",
   "execution_count": 7,
   "metadata": {
    "collapsed": false,
    "deletable": true,
    "editable": true
   },
   "outputs": [],
   "source": [
    "### Task 3: Create new feature(s)\n",
    "\n",
    "def normalize_feature(feature, data_dict):\n",
    "    # initialize high and low value for normalization function\n",
    "    value_high = None\n",
    "    value_low = None\n",
    "\n",
    "    # loop through persons to find high and low values for features\n",
    "    for person in data_dict:\n",
    "        value = data_dict[person][feature]\n",
    "        if value != 'NaN':\n",
    "            # If first value in feature then assign value to variables\n",
    "            if value_low == None:\n",
    "                value_high = value\n",
    "                value_low = value\n",
    "            # look to see if value is higher or lower\n",
    "            if value > value_high:\n",
    "                value_high = value\n",
    "            elif value < value_low:\n",
    "                value_low = value\n",
    "\n",
    "    # loop to assign normalization value\n",
    "    for person in data_dict:\n",
    "        value = float(data_dict[person][feature])\n",
    "        # if value exists between high and low\n",
    "        if (value_high >= value) and (value_low <= value):\n",
    "            # if denominator isn't zero\n",
    "            if value_high != value_low:\n",
    "                value_norm = (value - value_low) / (value_high - value_low)\n",
    "                data_dict[person][feature] = value_norm\n",
    "            \n",
    "# find percent emails sent to poi and percent from poi to this person\n",
    "for person in data_dict:\n",
    "    from_messages = data_dict[person]['from_messages']\n",
    "    to_messages = data_dict[person]['to_messages']\n",
    "    from_poi = data_dict[person]['from_poi_to_this_person']\n",
    "    to_poi = data_dict[person]['from_this_person_to_poi']\n",
    "    \n",
    "    # Initialize all email_poi_score as 'NaN'\n",
    "    data_dict[person]['email_poi_score'] = 'NaN'\n",
    "\n",
    "    percent_to = float(to_poi) / float(from_messages)\n",
    "    percent_from = float(from_poi) / float(to_messages)\n",
    "\n",
    "    data_dict[person]['percent_to_poi'] = percent_to\n",
    "    data_dict[person]['percent_from_poi'] = percent_from\n",
    "\n",
    "# normailize percent_to_poi and percent_from_poi and add together\n",
    "normalize_feature('percent_to_poi', data_dict)\n",
    "normalize_feature('percent_from_poi', data_dict)\n",
    "\n",
    "# add normalized percent_to_poi and percent_from_poi to create email_poi_score\n",
    "for person in data_dict:\n",
    "    percent_to_norm = data_dict[person]['percent_to_poi']\n",
    "    percent_from_norm = data_dict[person]['percent_from_poi']\n",
    "\n",
    "    email_poi_score = percent_to_norm + percent_from_norm\n",
    "    if email_poi_score >= 0:\n",
    "        data_dict[person]['email_poi_score'] = email_poi_score\n",
    "        \n",
    "# normalize 'email_poi_score'\n",
    "normalize_feature('email_poi_score', data_dict)"
   ]
  },
  {
   "cell_type": "code",
   "execution_count": 8,
   "metadata": {
    "collapsed": true,
    "deletable": true,
    "editable": true
   },
   "outputs": [],
   "source": [
    "### Store to my_dataset for easy export below.\n",
    "my_dataset = data_dict"
   ]
  },
  {
   "cell_type": "markdown",
   "metadata": {
    "deletable": true,
    "editable": true
   },
   "source": [
    "##### Hand-picked Feature Selection\n",
    "\n",
    "Feature selection was initially hand-picked from visual aide via https://public.tableau.com/profile/diego2420#!/vizhome/Udacity/UdacityDashboard. Features were chosen based on visual clumping of POIs and non-POIs. The number of features were chosen somewhat arbitrarily; only features that appeared to have a strong visual clumping were chosen.\n",
    "\n",
    "Hand-picked features for determining POI:\n",
    "* exercised_stock_options (high values ~ POI)\n",
    "* deferred_income (low values ~ POI)\n",
    "* expenses (low values ~ not POI)"
   ]
  },
  {
   "cell_type": "code",
   "execution_count": 9,
   "metadata": {
    "collapsed": true,
    "deletable": true,
    "editable": true
   },
   "outputs": [],
   "source": [
    "features_handpicked = ['poi', 'exercised_stock_options', 'deferred_income', 'expenses']"
   ]
  },
  {
   "cell_type": "markdown",
   "metadata": {
    "deletable": true,
    "editable": true
   },
   "source": [
    "##### SelectKBest Feature Selection\n",
    "\n",
    "Features were also chosen using SelectKBest. Because top features selected from SelectKBest can change depending on the randomness of training and testing the data, a tally was taken to determine which features appear in the top 3 features the most over 1000 trials. The idea behind only choosing the top 3 is only 3 features were chosen for the hand-picked test.\n",
    "\n",
    "SelectKBest features for determining POI:\n",
    "* exercised_stock_option\n",
    "* total_stock_value\n",
    "* bonus\n"
   ]
  },
  {
   "cell_type": "code",
   "execution_count": 10,
   "metadata": {
    "collapsed": false,
    "deletable": true,
    "editable": true
   },
   "outputs": [
    {
     "name": "stdout",
     "output_type": "stream",
     "text": [
      "In top 3:\n",
      "[355  11 564 201 675  34 706   4 131  64   0  18   0   2  50 185]\n",
      "\n",
      "Top 3 features:\n",
      "['poi', 'exercised_stock_options', 'total_stock_value', 'bonus']\n"
     ]
    }
   ],
   "source": [
    "### Extract features and labels from dataset for local testing\n",
    "data = featureFormat(my_dataset, features_list, sort_keys = True)\n",
    "labels, features = targetFeatureSplit(data)\n",
    "\n",
    "from sklearn.feature_selection import SelectKBest, f_classif\n",
    "from sklearn import cross_validation\n",
    "from operator import add\n",
    "from heapq import nlargest\n",
    "\n",
    "# Run loop to find how many times a feature occurs in the top 3\n",
    "best_features = [0] * (len(features_list)-1)\n",
    "for i in range(1000):\n",
    "    # Create features and training labels\n",
    "    labels, features = targetFeatureSplit(data)\n",
    "    features_train, features_test, labels_train, labels_test = \\\n",
    "        cross_validation.train_test_split(features, labels, test_size=0.33)\n",
    "\n",
    "    # Generate SelectKBest with k=3 features\n",
    "    selector = SelectKBest(f_classif, k=3)\n",
    "    selector.fit(features_train, labels_train)\n",
    "    \n",
    "    # Increase score of feature if it appears in the top 3   \n",
    "    best_features = selector.get_support().astype(int) + best_features\n",
    "\n",
    "    \n",
    "print \"In top 3:\\n\", best_features\n",
    "# Print the top 3 features scored by which features appeared most in top 3\n",
    "features_kbest = ['poi']\n",
    "for e in nlargest(3, best_features):\n",
    "    for index in range(len(best_features)):\n",
    "        if e == best_features[index]:\n",
    "            top_feature = features_list[index+1]\n",
    "            if top_feature not in features_kbest:\n",
    "                features_kbest.append(top_feature)\n",
    "\n",
    "print \"\\nTop 3 features:\\n\", features_kbest        "
   ]
  },
  {
   "cell_type": "markdown",
   "metadata": {
    "deletable": true,
    "editable": true
   },
   "source": [
    "## Classifiers\n",
    "\n",
    "To test for optimal training from the data multiple classifiers are used:\n",
    "* Decision Tree\n",
    "* Random Forest\n",
    "* Extra Trees\n",
    "* SVMs\n",
    "* GaussianNB\n",
    "\n",
    "Classifiers were tested for high scores in precision, recall, and f1. Precision is the percent of people the classifier accurately labeled as a POI. Recall is the percent of actual POIs that were correctly classified. The F1 score relates both precion and recall. F1 scores are calculated by this equation:\n",
    "\n",
    "$$ F1 = 2 * (precision * recall)  /  (precision + recall) $$\n",
    "\n",
    "Only classifiers with precsion and recall scores greater than or equal to .33 will be considered for the best overall classifier. Any of those best classifiers will then be ranked by highest f1 score.\n",
    "\n",
    "During initial testings I noticed a very high variation of all scores; classifiers that yielded high precision and recall scores may have low scores on the next test. To counteract the high deviation of values, I wrote a test function to generate 1000 classifiers of each type and compare their average scores.\n"
   ]
  },
  {
   "cell_type": "markdown",
   "metadata": {
    "deletable": true,
    "editable": true
   },
   "source": [
    "## Classifiers (Features List)"
   ]
  },
  {
   "cell_type": "markdown",
   "metadata": {},
   "source": [
    "The features list contains all features with percent of NaN values greater than 80%. "
   ]
  },
  {
   "cell_type": "markdown",
   "metadata": {
    "deletable": true,
    "editable": true
   },
   "source": [
    "##### Classifiers: Decision Tree (Features List)"
   ]
  },
  {
   "cell_type": "code",
   "execution_count": 11,
   "metadata": {
    "collapsed": false,
    "deletable": true,
    "editable": true
   },
   "outputs": [],
   "source": [
    "### Extract features and labels from dataset for local testing\n",
    "data = featureFormat(my_dataset, features_list, sort_keys = True)\n",
    "labels, features = targetFeatureSplit(data)"
   ]
  },
  {
   "cell_type": "code",
   "execution_count": 12,
   "metadata": {
    "collapsed": false,
    "deletable": true,
    "editable": true
   },
   "outputs": [
    {
     "name": "stderr",
     "output_type": "stream",
     "text": [
      "/home/david/.local/lib/python2.7/site-packages/sklearn/metrics/classification.py:1113: UndefinedMetricWarning: F-score is ill-defined and being set to 0.0 due to no predicted samples.\n",
      "  'precision', 'predicted', average, warn_for)\n"
     ]
    },
    {
     "name": "stdout",
     "output_type": "stream",
     "text": [
      "Pipeline(steps=[('imp', Imputer(axis=0, copy=True, missing_values='NaN', strategy='mean', verbose=0)), ('pca', PCA(copy=True, iterated_power='auto', n_components=3, random_state=None,\n",
      "  svd_solver='auto', tol=0.0, whiten=False)), ('skb', SelectKBest(k=3, score_func=<function f_classif at 0x7f9ccf72bb90>)), (...it=2, min_weight_fraction_leaf=0.0,\n",
      "            presort=False, random_state=None, splitter='best'))])\n",
      "\tAccuracy: 0.80373\tPrecision: 0.26611\tRecall: 0.26850\tF1: 0.26730\tF2: 0.26802\n",
      "\tTotal predictions: 15000\tTrue positives:  537\tFalse positives: 1481\tFalse negatives: 1463\tTrue negatives: 11519\n",
      "\n"
     ]
    }
   ],
   "source": [
    "from sklearn.pipeline import Pipeline\n",
    "from sklearn.decomposition import PCA\n",
    "from sklearn.preprocessing import Imputer\n",
    "from sklearn.tree import DecisionTreeClassifier\n",
    "from sklearn.model_selection import StratifiedShuffleSplit\n",
    "from sklearn.feature_selection import SelectKBest, f_classif\n",
    "\n",
    "pipeline_dt = Pipeline([\n",
    "    ('imp', Imputer()),\n",
    "    ('pca', PCA()),\n",
    "    ('skb', SelectKBest(f_classif)),\n",
    "    ('clf', DecisionTreeClassifier()),\n",
    "])\n",
    "\n",
    "param_grid_dt = [\n",
    "    {\n",
    "        'imp__strategy': ['median', 'mean'],\n",
    "        'pca__n_components': [1],\n",
    "        'skb__k': [1],\n",
    "        'clf__min_samples_split': [2,3,5],\n",
    "        'clf__max_depth': [None,2,3],\n",
    "    },\n",
    "    {\n",
    "        'imp__strategy': ['median', 'mean'],\n",
    "        'pca__n_components': [2],\n",
    "        'skb__k': [1,2],\n",
    "        'clf__min_samples_split': [2,3,5],\n",
    "        'clf__max_depth': [None,2,3],\n",
    "    },\n",
    "    {\n",
    "        'imp__strategy': ['median', 'mean'],\n",
    "        'pca__n_components': [3],\n",
    "        'skb__k': [1,2,3],\n",
    "        'clf__min_samples_split': [2,3,5],\n",
    "        'clf__max_depth': [None,2,3],\n",
    "    },\n",
    "    \n",
    "]        \n",
    "\n",
    "cross_validator = StratifiedShuffleSplit()\n",
    "\n",
    "\n",
    "from sklearn.model_selection import GridSearchCV\n",
    "gridCV_object_dt = GridSearchCV(estimator = pipeline_dt,\n",
    "                                param_grid = param_grid_dt,\n",
    "                                scoring = 'f1',\n",
    "                                cv=cross_validator)\n",
    "\n",
    "# fit the data\n",
    "gridCV_object_dt.fit(features, labels)\n",
    "\n",
    "# get the best estimator\n",
    "pipeline_clf_dt_af = gridCV_object_dt.best_estimator_\n",
    "\n",
    "# test results\n",
    "from tester import test_classifier\n",
    "test_classifier(pipeline_clf_dt_af, my_dataset, features_list)"
   ]
  },
  {
   "cell_type": "markdown",
   "metadata": {},
   "source": [
    "The DecisionTree Classifier yielded results of:\n",
    "* Precision: .266\n",
    "* Recall: .269\n",
    "* F1: .267\n",
    "\n",
    "The features list with the DecisionTree Classifier does not have high enough results."
   ]
  },
  {
   "cell_type": "markdown",
   "metadata": {
    "deletable": true,
    "editable": true
   },
   "source": [
    "##### Classifiers: Random Forest (Features List)"
   ]
  },
  {
   "cell_type": "code",
   "execution_count": 13,
   "metadata": {
    "collapsed": false,
    "deletable": true,
    "editable": true
   },
   "outputs": [
    {
     "name": "stdout",
     "output_type": "stream",
     "text": [
      "Pipeline(steps=[('imp', Imputer(axis=0, copy=True, missing_values='NaN', strategy='median', verbose=0)), ('pca', PCA(copy=True, iterated_power='auto', n_components=3, random_state=None,\n",
      "  svd_solver='auto', tol=0.0, whiten=False)), ('skb', SelectKBest(k=3, score_func=<function f_classif at 0x7f9ccf72bb90>)),...imators=10, n_jobs=1, oob_score=False, random_state=None,\n",
      "            verbose=0, warm_start=False))])\n",
      "\tAccuracy: 0.86893\tPrecision: 0.55629\tRecall: 0.08400\tF1: 0.14596\tF2: 0.10118\n",
      "\tTotal predictions: 15000\tTrue positives:  168\tFalse positives:  134\tFalse negatives: 1832\tTrue negatives: 12866\n",
      "\n"
     ]
    }
   ],
   "source": [
    "from sklearn.ensemble import RandomForestClassifier\n",
    "\n",
    "pipeline_rf = Pipeline([\n",
    "    ('imp', Imputer()),\n",
    "    ('pca', PCA()),\n",
    "    ('skb', SelectKBest(f_classif)),\n",
    "    ('clf', RandomForestClassifier()),\n",
    "])\n",
    "\n",
    "param_grid_rf = [\n",
    "    {\n",
    "        'imp__strategy': ['median', 'mean'],\n",
    "        'pca__n_components': [1],\n",
    "        'skb__k': [1],\n",
    "        'clf__min_samples_split': [2,3,5],\n",
    "        'clf__max_depth': [None,2,3],\n",
    "    },\n",
    "    {\n",
    "        'imp__strategy': ['median', 'mean'],\n",
    "        'pca__n_components': [2],\n",
    "        'skb__k': [1,2],\n",
    "        'clf__min_samples_split': [2,3,5],\n",
    "        'clf__max_depth': [None,2,3],\n",
    "    },\n",
    "    {\n",
    "        'imp__strategy': ['median', 'mean'],\n",
    "        'pca__n_components': [3],\n",
    "        'skb__k': [1,2,3],\n",
    "        'clf__min_samples_split': [2,3,5],\n",
    "        'clf__max_depth': [None,2,3],\n",
    "    },\n",
    "]        \n",
    "\n",
    "cross_validator = StratifiedShuffleSplit(random_state = 0)\n",
    "\n",
    "\n",
    "from sklearn.model_selection import GridSearchCV\n",
    "gridCV_object_rf = GridSearchCV(estimator = pipeline_rf,\n",
    "                                param_grid = param_grid_rf,\n",
    "                                scoring = 'f1',\n",
    "                                cv=cross_validator)\n",
    "\n",
    "# fit the data\n",
    "gridCV_object_rf.fit(features, labels)\n",
    "\n",
    "# get the best estimator\n",
    "pipeline_clf_rf_af = gridCV_object_rf.best_estimator_\n",
    "\n",
    "# test results\n",
    "from tester import test_classifier\n",
    "test_classifier(pipeline_clf_rf_af, my_dataset, features_list)"
   ]
  },
  {
   "cell_type": "markdown",
   "metadata": {},
   "source": [
    "The RandomForest Classifier yielded results of:\n",
    "* Precision: .556\n",
    "* Recall: .084\n",
    "* F1: .146\n",
    "\n",
    "The features list with the RandomForest Classifier does not have high enough results."
   ]
  },
  {
   "cell_type": "markdown",
   "metadata": {
    "deletable": true,
    "editable": true
   },
   "source": [
    "##### Classifiers: Extra Trees (Features List)"
   ]
  },
  {
   "cell_type": "code",
   "execution_count": 14,
   "metadata": {
    "collapsed": false,
    "deletable": true,
    "editable": true
   },
   "outputs": [
    {
     "name": "stdout",
     "output_type": "stream",
     "text": [
      "Pipeline(steps=[('imp', Imputer(axis=0, copy=True, missing_values='NaN', strategy='mean', verbose=0)), ('pca', PCA(copy=True, iterated_power='auto', n_components=3, random_state=None,\n",
      "  svd_solver='auto', tol=0.0, whiten=False)), ('skb', SelectKBest(k=3, score_func=<function f_classif at 0x7f9ccf72bb90>)), (...timators=10, n_jobs=1, oob_score=False, random_state=None,\n",
      "           verbose=0, warm_start=False))])\n",
      "\tAccuracy: 0.85993\tPrecision: 0.41762\tRecall: 0.12800\tF1: 0.19594\tF2: 0.14861\n",
      "\tTotal predictions: 15000\tTrue positives:  256\tFalse positives:  357\tFalse negatives: 1744\tTrue negatives: 12643\n",
      "\n"
     ]
    }
   ],
   "source": [
    "from sklearn.ensemble import ExtraTreesClassifier\n",
    "\n",
    "pipeline_et = Pipeline([\n",
    "    ('imp', Imputer()),\n",
    "    ('pca', PCA()),\n",
    "    ('skb', SelectKBest(f_classif)),\n",
    "    ('clf', ExtraTreesClassifier()),\n",
    "])\n",
    "\n",
    "param_grid_et = [\n",
    "    {\n",
    "        'imp__strategy': ['median', 'mean'],\n",
    "        'pca__n_components': [1],\n",
    "        'skb__k': [1],\n",
    "        'clf__min_samples_split': [2,3,5],\n",
    "        'clf__max_depth': [None,2,3],\n",
    "    },\n",
    "    {\n",
    "        'imp__strategy': ['median', 'mean'],\n",
    "        'pca__n_components': [2],\n",
    "        'skb__k': [1,2],\n",
    "        'clf__min_samples_split': [2,3,5],\n",
    "        'clf__max_depth': [None,2,3],\n",
    "    },\n",
    "    {\n",
    "        'imp__strategy': ['median', 'mean'],\n",
    "        'pca__n_components': [3],\n",
    "        'skb__k': [1,2,3],\n",
    "        'clf__min_samples_split': [2,3,5],\n",
    "        'clf__max_depth': [None,2,3],\n",
    "    },\n",
    "]        \n",
    "\n",
    "cross_validator = StratifiedShuffleSplit(random_state = 0)\n",
    "\n",
    "\n",
    "from sklearn.model_selection import GridSearchCV\n",
    "gridCV_object_et = GridSearchCV(estimator = pipeline_et,\n",
    "                                param_grid = param_grid_et,\n",
    "                                scoring = 'f1',\n",
    "                                cv=cross_validator)\n",
    "\n",
    "# fit the data\n",
    "gridCV_object_et.fit(features, labels)\n",
    "\n",
    "# get the best estimator\n",
    "pipeline_clf_et_af = gridCV_object_et.best_estimator_\n",
    "\n",
    "# test results\n",
    "from tester import test_classifier\n",
    "test_classifier(pipeline_clf_et_af, my_dataset, features_list)"
   ]
  },
  {
   "cell_type": "markdown",
   "metadata": {},
   "source": [
    "The ExtraTrees Classifier yielded results of:\n",
    "* Precision: .417\n",
    "* Recall: .128\n",
    "* F1: .200\n",
    "\n",
    "The features list with the ExtraTrees Classifier does not have high enough results."
   ]
  },
  {
   "cell_type": "markdown",
   "metadata": {
    "deletable": true,
    "editable": true
   },
   "source": [
    "##### Classifiers: SVMs (Features List)"
   ]
  },
  {
   "cell_type": "code",
   "execution_count": 15,
   "metadata": {
    "collapsed": false,
    "deletable": true,
    "editable": true
   },
   "outputs": [
    {
     "name": "stdout",
     "output_type": "stream",
     "text": [
      "Pipeline(steps=[('imp', Imputer(axis=0, copy=True, missing_values='NaN', strategy='median', verbose=0)), ('minmaxscaler', MinMaxScaler(copy=True, feature_range=(0, 1))), ('pca', PCA(copy=True, iterated_power='auto', n_components=5, random_state=None,\n",
      "  svd_solver='auto', tol=0.0, whiten=False)), ('skb', Sele...,\n",
      "  max_iter=-1, probability=False, random_state=None, shrinking=True,\n",
      "  tol=0.001, verbose=False))])\n",
      "\tAccuracy: 0.86393\tPrecision: 0.40639\tRecall: 0.04450\tF1: 0.08022\tF2: 0.05414\n",
      "\tTotal predictions: 15000\tTrue positives:   89\tFalse positives:  130\tFalse negatives: 1911\tTrue negatives: 12870\n",
      "\n"
     ]
    }
   ],
   "source": [
    "from sklearn.svm import SVC\n",
    "from sklearn.preprocessing import MinMaxScaler\n",
    "\n",
    "pipeline_svc = Pipeline([\n",
    "    ('imp', Imputer()),\n",
    "    ('minmaxscaler', MinMaxScaler()),\n",
    "    ('pca', PCA()),\n",
    "    ('skb', SelectKBest(f_classif)),\n",
    "    ('clf', SVC()),\n",
    "])\n",
    "\n",
    "param_grid_svc = [\n",
    "    {\n",
    "        'imp__strategy': ['median', 'mean'],\n",
    "        'pca__n_components': [3],\n",
    "        'skb__k': [1,2,3],\n",
    "        'clf__C': [10,50,100],\n",
    "        'clf__kernel': ['rbf', 'poly'],\n",
    "    },\n",
    "    {\n",
    "        'imp__strategy': ['median', 'mean'],\n",
    "        'pca__n_components': [4],\n",
    "        'skb__k': [1,2,3,4],\n",
    "        'clf__C': [10,50,100],\n",
    "        'clf__kernel': ['rbf', 'poly'],\n",
    "    },\n",
    "    {\n",
    "        'imp__strategy': ['median', 'mean'],\n",
    "        'pca__n_components': [5],\n",
    "        'skb__k': [1,2,3,4,5],\n",
    "        'clf__C': [10,50,100],\n",
    "        'clf__kernel': ['rbf', 'poly'],\n",
    "    }\n",
    "]\n",
    "\n",
    "cross_validator = StratifiedShuffleSplit()\n",
    "\n",
    "gridCV_object_svc = GridSearchCV(estimator = pipeline_svc,\n",
    "                                 param_grid = param_grid_svc,\n",
    "                                 scoring = 'f1',\n",
    "                                 cv = cross_validator)\n",
    "\n",
    "# fit the data\n",
    "gridCV_object_svc.fit(features_train, labels_train)\n",
    "\n",
    "\n",
    "# get the best estimator\n",
    "pipeline_clf_svc_af = gridCV_object_svc.best_estimator_\n",
    "\n",
    "# test results\n",
    "from tester import test_classifier\n",
    "test_classifier(pipeline_clf_svc_af, my_dataset, features_list)"
   ]
  },
  {
   "cell_type": "markdown",
   "metadata": {},
   "source": [
    "The SVM Classifier yielded results of:\n",
    "* Precision: .406\n",
    "* Recall: .045\n",
    "* F1: .080\n",
    "\n",
    "The features list with the SVM Classifier does not have high enough results."
   ]
  },
  {
   "cell_type": "markdown",
   "metadata": {
    "deletable": true,
    "editable": true
   },
   "source": [
    "##### Classifiers: Naive Bayes (Features List)"
   ]
  },
  {
   "cell_type": "code",
   "execution_count": 16,
   "metadata": {
    "collapsed": false,
    "deletable": true,
    "editable": true
   },
   "outputs": [
    {
     "name": "stdout",
     "output_type": "stream",
     "text": [
      "Pipeline(steps=[('imp', Imputer(axis=0, copy=True, missing_values='NaN', strategy='median', verbose=0)), ('pca', PCA(copy=True, iterated_power='auto', n_components=6, random_state=None,\n",
      "  svd_solver='auto', tol=0.0, whiten=False)), ('skb', SelectKBest(k=4, score_func=<function f_classif at 0x7f9ccf72bb90>)),...imators=10, n_jobs=1, oob_score=False, random_state=None,\n",
      "            verbose=0, warm_start=False))])\n",
      "\tAccuracy: 0.86047\tPrecision: 0.41530\tRecall: 0.11400\tF1: 0.17889\tF2: 0.13335\n",
      "\tTotal predictions: 15000\tTrue positives:  228\tFalse positives:  321\tFalse negatives: 1772\tTrue negatives: 12679\n",
      "\n"
     ]
    }
   ],
   "source": [
    "from sklearn.naive_bayes import GaussianNB\n",
    "\n",
    "pipeline_nb = Pipeline([\n",
    "    ('imp', Imputer()),\n",
    "    ('pca', PCA()),\n",
    "    ('skb', SelectKBest(f_classif)),\n",
    "    ('clf', RandomForestClassifier()),\n",
    "])\n",
    "\n",
    "param_grid_nb = [\n",
    "    {\n",
    "        'imp__strategy': ['median', 'mean'],\n",
    "        'pca__n_components': [3],\n",
    "        'skb__k': [1,2,3],\n",
    "        'clf__min_samples_split': [2,3,5],\n",
    "        'clf__max_depth': [None,2,3],\n",
    "    },\n",
    "    {\n",
    "        'imp__strategy': ['median', 'mean'],\n",
    "        'pca__n_components': [4],\n",
    "        'skb__k': [1,2,3,4],\n",
    "        'clf__min_samples_split': [2,3,5],\n",
    "        'clf__max_depth': [None,2,3],\n",
    "    },\n",
    "    {\n",
    "        'imp__strategy': ['median', 'mean'],\n",
    "        'pca__n_components': [5],\n",
    "        'skb__k': [1,2,3,4,5],\n",
    "        'clf__min_samples_split': [2,3,5],\n",
    "        'clf__max_depth': [None,2,3],\n",
    "    },\n",
    "    {\n",
    "        'imp__strategy': ['median', 'mean'],\n",
    "        'pca__n_components': [6],\n",
    "        'skb__k': [1,2,3,4,5,6],\n",
    "        'clf__min_samples_split': [2,3,5],\n",
    "        'clf__max_depth': [None,2,3],\n",
    "    }\n",
    "]        \n",
    "\n",
    "cross_validator = StratifiedShuffleSplit(random_state = 0)\n",
    "\n",
    "\n",
    "from sklearn.model_selection import GridSearchCV\n",
    "gridCV_object_nb = GridSearchCV(estimator = pipeline_nb,\n",
    "                                param_grid = param_grid_nb,\n",
    "                                scoring = 'f1',\n",
    "                                cv=cross_validator)\n",
    "\n",
    "# fit the data\n",
    "gridCV_object_nb.fit(features, labels)\n",
    "\n",
    "# get the best estimator\n",
    "pipeline_clf_nb_af = gridCV_object_nb.best_estimator_\n",
    "\n",
    "# test results\n",
    "from tester import test_classifier\n",
    "test_classifier(pipeline_clf_nb_af, my_dataset, features_list)"
   ]
  },
  {
   "cell_type": "markdown",
   "metadata": {},
   "source": [
    "The NaiveBayes Classifier yielded results of:\n",
    "* Precision: .415\n",
    "* Recall: .114\n",
    "* F1: .179\n",
    "\n",
    "The features list with the NaiveBayes Classifier does not have high enough results."
   ]
  },
  {
   "cell_type": "markdown",
   "metadata": {},
   "source": [
    "### Classifiers Summary (Features List)\n",
    "\n",
    "None of the classifiers using Features List performed well enough. It is likely using fewer features may result in higher scores; this will be tested further using hand-picked features and features selected using SelectKBest."
   ]
  },
  {
   "cell_type": "markdown",
   "metadata": {
    "deletable": true,
    "editable": true
   },
   "source": [
    "## Classifiers (Hand-Picked)"
   ]
  },
  {
   "cell_type": "markdown",
   "metadata": {
    "deletable": true,
    "editable": true
   },
   "source": [
    "##### Classifiers: Decision Tree (Hand-Picked)"
   ]
  },
  {
   "cell_type": "code",
   "execution_count": 17,
   "metadata": {
    "collapsed": true,
    "deletable": true,
    "editable": true
   },
   "outputs": [],
   "source": [
    "### Extract features and labels from dataset for local testing\n",
    "data = featureFormat(my_dataset, features_handpicked, sort_keys = True)\n",
    "labels, features = targetFeatureSplit(data)"
   ]
  },
  {
   "cell_type": "code",
   "execution_count": 18,
   "metadata": {
    "collapsed": false,
    "deletable": true,
    "editable": true
   },
   "outputs": [
    {
     "name": "stdout",
     "output_type": "stream",
     "text": [
      "Pipeline(steps=[('imp', Imputer(axis=0, copy=True, missing_values='NaN', strategy='median', verbose=0)), ('pca', PCA(copy=True, iterated_power='auto', n_components=2, random_state=None,\n",
      "  svd_solver='auto', tol=0.0, whiten=False)), ('skb', SelectKBest(k=2, score_func=<function f_classif at 0x7f9ccf72bb90>)),...it=2, min_weight_fraction_leaf=0.0,\n",
      "            presort=False, random_state=None, splitter='best'))])\n",
      "\tAccuracy: 0.81800\tPrecision: 0.35141\tRecall: 0.32400\tF1: 0.33715\tF2: 0.32913\n",
      "\tTotal predictions: 14000\tTrue positives:  648\tFalse positives: 1196\tFalse negatives: 1352\tTrue negatives: 10804\n",
      "\n"
     ]
    }
   ],
   "source": [
    "pipeline_dt = Pipeline([\n",
    "    ('imp', Imputer()),\n",
    "    ('pca', PCA()),\n",
    "    ('skb', SelectKBest(f_classif)),\n",
    "    ('clf', DecisionTreeClassifier()),\n",
    "])\n",
    "\n",
    "param_grid_dt = [\n",
    "    {\n",
    "        'imp__strategy': ['median', 'mean'],\n",
    "        'pca__n_components': [1],\n",
    "        'skb__k': [1],\n",
    "        'clf__min_samples_split': [2,3,5],\n",
    "        'clf__max_depth': [None,2,3],\n",
    "    },\n",
    "    {\n",
    "        'imp__strategy': ['median', 'mean'],\n",
    "        'pca__n_components': [2],\n",
    "        'skb__k': [1,2],\n",
    "        'clf__min_samples_split': [2,3,5],\n",
    "        'clf__max_depth': [None,2,3],\n",
    "    },\n",
    "    {\n",
    "        'imp__strategy': ['median', 'mean'],\n",
    "        'pca__n_components': [3],\n",
    "        'skb__k': [1,2,3],\n",
    "        'clf__min_samples_split': [2,3,5],\n",
    "        'clf__max_depth': [None,2,3],\n",
    "    }       \n",
    "]        \n",
    "\n",
    "cross_validator = StratifiedShuffleSplit()\n",
    "\n",
    "\n",
    "from sklearn.model_selection import GridSearchCV\n",
    "gridCV_object_dt = GridSearchCV(estimator = pipeline_dt,\n",
    "                                param_grid = param_grid_dt,\n",
    "                                scoring = 'f1',\n",
    "                                cv=cross_validator)\n",
    "\n",
    "# fit the data\n",
    "gridCV_object_dt.fit(features, labels)\n",
    "\n",
    "# get the best estimator\n",
    "pipeline_clf_dt_hp = gridCV_object_dt.best_estimator_\n",
    "\n",
    "# test results\n",
    "from tester import test_classifier\n",
    "test_classifier(pipeline_clf_dt_hp, my_dataset, features_handpicked)"
   ]
  },
  {
   "cell_type": "markdown",
   "metadata": {},
   "source": [
    "The DecisionTree Classifier yielded results of:\n",
    "* Precision: .351\n",
    "* Recall: .324\n",
    "* F1: .337\n",
    "\n",
    "The hand-picked features with the DecisionTree Classifier does not have high enough results. However, the results are _very_ close to passing."
   ]
  },
  {
   "cell_type": "markdown",
   "metadata": {
    "deletable": true,
    "editable": true
   },
   "source": [
    "##### Classifiers: Random Forest (Hand-Picked)"
   ]
  },
  {
   "cell_type": "code",
   "execution_count": 19,
   "metadata": {
    "collapsed": false,
    "deletable": true,
    "editable": true
   },
   "outputs": [
    {
     "name": "stdout",
     "output_type": "stream",
     "text": [
      "Pipeline(steps=[('imp', Imputer(axis=0, copy=True, missing_values='NaN', strategy='mean', verbose=0)), ('pca', PCA(copy=True, iterated_power='auto', n_components=3, random_state=None,\n",
      "  svd_solver='auto', tol=0.0, whiten=False)), ('skb', SelectKBest(k=3, score_func=<function f_classif at 0x7f9ccf72bb90>)), (...imators=10, n_jobs=1, oob_score=False, random_state=None,\n",
      "            verbose=0, warm_start=False))])\n",
      "\tAccuracy: 0.86421\tPrecision: 0.55723\tRecall: 0.24100\tF1: 0.33647\tF2: 0.27186\n",
      "\tTotal predictions: 14000\tTrue positives:  482\tFalse positives:  383\tFalse negatives: 1518\tTrue negatives: 11617\n",
      "\n"
     ]
    }
   ],
   "source": [
    "pipeline_rf = Pipeline([\n",
    "    ('imp', Imputer()),\n",
    "    ('pca', PCA()),\n",
    "    ('skb', SelectKBest(f_classif)),\n",
    "    ('clf', RandomForestClassifier()),\n",
    "])\n",
    "\n",
    "param_grid_rf = [\n",
    "    {\n",
    "        'imp__strategy': ['median', 'mean'],\n",
    "        'pca__n_components': [1],\n",
    "        'skb__k': [1],\n",
    "        'clf__min_samples_split': [2,3,5],\n",
    "        'clf__max_depth': [None,2,3],\n",
    "    },\n",
    "    {\n",
    "        'imp__strategy': ['median', 'mean'],\n",
    "        'pca__n_components': [2],\n",
    "        'skb__k': [1,2],\n",
    "        'clf__min_samples_split': [2,3,5],\n",
    "        'clf__max_depth': [None,2,3],\n",
    "    },\n",
    "    {\n",
    "        'imp__strategy': ['median', 'mean'],\n",
    "        'pca__n_components': [3],\n",
    "        'skb__k': [1,2,3],\n",
    "        'clf__min_samples_split': [2,3,5],\n",
    "        'clf__max_depth': [None,2,3],\n",
    "    }\n",
    "]        \n",
    "\n",
    "cross_validator = StratifiedShuffleSplit(random_state = 0)\n",
    "\n",
    "\n",
    "gridCV_object_rf = GridSearchCV(estimator = pipeline_rf,\n",
    "                                param_grid = param_grid_rf,\n",
    "                                scoring = 'f1',\n",
    "                                cv=cross_validator)\n",
    "\n",
    "# fit the data\n",
    "gridCV_object_rf.fit(features, labels)\n",
    "\n",
    "# get the best estimator\n",
    "pipeline_clf_rf_hp = gridCV_object_rf.best_estimator_\n",
    "\n",
    "# test results\n",
    "from tester import test_classifier\n",
    "test_classifier(pipeline_clf_rf_hp, my_dataset, features_handpicked)"
   ]
  },
  {
   "cell_type": "markdown",
   "metadata": {},
   "source": [
    "The RandomTrees Classifier yielded results of:\n",
    "* Precision: .557\n",
    "* Recall: .241\n",
    "* F1: .336\n",
    "\n",
    "The hand-picked features with the RandomTrees Classifier does not have high enough results."
   ]
  },
  {
   "cell_type": "markdown",
   "metadata": {
    "deletable": true,
    "editable": true
   },
   "source": [
    "##### Classifiers: Extra Trees (Hand-Picked)"
   ]
  },
  {
   "cell_type": "code",
   "execution_count": 20,
   "metadata": {
    "collapsed": false,
    "deletable": true,
    "editable": true
   },
   "outputs": [
    {
     "name": "stdout",
     "output_type": "stream",
     "text": [
      "Pipeline(steps=[('imp', Imputer(axis=0, copy=True, missing_values='NaN', strategy='median', verbose=0)), ('pca', PCA(copy=True, iterated_power='auto', n_components=3, random_state=None,\n",
      "  svd_solver='auto', tol=0.0, whiten=False)), ('skb', SelectKBest(k=3, score_func=<function f_classif at 0x7f9ccf72bb90>)),...timators=10, n_jobs=1, oob_score=False, random_state=None,\n",
      "           verbose=0, warm_start=False))])\n",
      "\tAccuracy: 0.86193\tPrecision: 0.54449\tRecall: 0.20500\tF1: 0.29786\tF2: 0.23421\n",
      "\tTotal predictions: 14000\tTrue positives:  410\tFalse positives:  343\tFalse negatives: 1590\tTrue negatives: 11657\n",
      "\n"
     ]
    }
   ],
   "source": [
    "pipeline_et = Pipeline([\n",
    "    ('imp', Imputer()),\n",
    "    ('pca', PCA()),\n",
    "    ('skb', SelectKBest(f_classif)),\n",
    "    ('clf', ExtraTreesClassifier()),\n",
    "])\n",
    "\n",
    "param_grid_et = [\n",
    "    {\n",
    "        'imp__strategy': ['median', 'mean'],\n",
    "        'pca__n_components': [1],\n",
    "        'skb__k': [1],\n",
    "        'clf__min_samples_split': [2,3,5],\n",
    "        'clf__max_depth': [None,2,3],\n",
    "    },\n",
    "    {\n",
    "        'imp__strategy': ['median', 'mean'],\n",
    "        'pca__n_components': [2],\n",
    "        'skb__k': [1,2],\n",
    "        'clf__min_samples_split': [2,3,5],\n",
    "        'clf__max_depth': [None,2,3],\n",
    "    },\n",
    "    {\n",
    "        'imp__strategy': ['median', 'mean'],\n",
    "        'pca__n_components': [3],\n",
    "        'skb__k': [1,2,3],\n",
    "        'clf__min_samples_split': [2,3,5],\n",
    "        'clf__max_depth': [None,2,3],\n",
    "    }\n",
    "]              \n",
    "\n",
    "cross_validator = StratifiedShuffleSplit(random_state = 0)\n",
    "\n",
    "gridCV_object_etsk = GridSearchCV(estimator = pipeline_et,\n",
    "                                param_grid = param_grid_et,\n",
    "                                scoring = 'f1',\n",
    "                                cv=cross_validator)\n",
    "\n",
    "# fit the data\n",
    "gridCV_object_et.fit(features, labels)\n",
    "\n",
    "# get the best estimator\n",
    "pipeline_clf_et_hp = gridCV_object_et.best_estimator_\n",
    "\n",
    "# test results\n",
    "from tester import test_classifier\n",
    "test_classifier(pipeline_clf_et_hp, my_dataset, features_handpicked)"
   ]
  },
  {
   "cell_type": "markdown",
   "metadata": {},
   "source": [
    "The ExtraTrees Classifier yielded results of:\n",
    "* Precision: .544\n",
    "* Recall: .205\n",
    "* F1: .298\n",
    "\n",
    "The hand-picked features with the ExtraTrees Classifier does not have high enough results."
   ]
  },
  {
   "cell_type": "markdown",
   "metadata": {
    "deletable": true,
    "editable": true
   },
   "source": [
    "##### Classifiers: SVMs (Hand-Picked)"
   ]
  },
  {
   "cell_type": "code",
   "execution_count": 21,
   "metadata": {
    "collapsed": false,
    "deletable": true,
    "editable": true
   },
   "outputs": [
    {
     "name": "stdout",
     "output_type": "stream",
     "text": [
      "Pipeline(steps=[('imp', Imputer(axis=0, copy=True, missing_values='NaN', strategy='median', verbose=0)), ('minmaxscaler', MinMaxScaler(copy=True, feature_range=(0, 1))), ('pca', PCA(copy=True, iterated_power='auto', n_components=3, random_state=None,\n",
      "  svd_solver='auto', tol=0.0, whiten=False)), ('skb', Sele...,\n",
      "  max_iter=-1, probability=False, random_state=None, shrinking=True,\n",
      "  tol=0.001, verbose=False))])\n",
      "\tAccuracy: 0.86786\tPrecision: 0.73006\tRecall: 0.11900\tF1: 0.20464\tF2: 0.14293\n",
      "\tTotal predictions: 14000\tTrue positives:  238\tFalse positives:   88\tFalse negatives: 1762\tTrue negatives: 11912\n",
      "\n"
     ]
    }
   ],
   "source": [
    "pipeline_svc = Pipeline([\n",
    "    ('imp', Imputer()),\n",
    "    ('minmaxscaler', MinMaxScaler()),\n",
    "    ('pca', PCA()),\n",
    "    ('skb', SelectKBest(f_classif)),\n",
    "    ('clf', SVC()),\n",
    "])\n",
    "\n",
    "param_grid_svc = [\n",
    "    {\n",
    "        'imp__strategy': ['median', 'mean'],\n",
    "        'pca__n_components': [1],\n",
    "        'skb__k': [1],\n",
    "        'clf__C': [10,50,100],\n",
    "        'clf__kernel': ['rbf', 'poly'],\n",
    "    },\n",
    "    {\n",
    "        'imp__strategy': ['median', 'mean'],\n",
    "        'pca__n_components': [2],\n",
    "        'skb__k': [1,2],\n",
    "        'clf__C': [10,50,100],\n",
    "        'clf__kernel': ['rbf', 'poly'],\n",
    "    },\n",
    "    {\n",
    "        'imp__strategy': ['median', 'mean'],\n",
    "        'pca__n_components': [3],\n",
    "        'skb__k': [1,2,3],\n",
    "        'clf__C': [10,50,100],\n",
    "        'clf__kernel': ['rbf', 'poly'],\n",
    "    }\n",
    "]\n",
    "\n",
    "cross_validator = StratifiedShuffleSplit()\n",
    "\n",
    "gridCV_object_svc = GridSearchCV(estimator = pipeline_svc,\n",
    "                                 param_grid = param_grid_svc,\n",
    "                                 scoring = 'f1',\n",
    "                                 cv = cross_validator)\n",
    "\n",
    "# fit the data\n",
    "gridCV_object_svc.fit(features_train, labels_train)\n",
    "\n",
    "\n",
    "# get the best estimator\n",
    "pipeline_clf_svc_hp = gridCV_object_svc.best_estimator_\n",
    "\n",
    "# test results\n",
    "from tester import test_classifier\n",
    "test_classifier(pipeline_clf_svc_hp, my_dataset, features_handpicked)"
   ]
  },
  {
   "cell_type": "markdown",
   "metadata": {},
   "source": [
    "The SVM Classifier yielded results of:\n",
    "* Precision: .730\n",
    "* Recall: .119\n",
    "* F1: .205\n",
    "\n",
    "The hand-picked features with the SVM Classifier does not have high enough results."
   ]
  },
  {
   "cell_type": "markdown",
   "metadata": {
    "deletable": true,
    "editable": true
   },
   "source": [
    "##### Classifiers: Naive Bayes (Hand-Picked)"
   ]
  },
  {
   "cell_type": "code",
   "execution_count": 22,
   "metadata": {
    "collapsed": false,
    "deletable": true,
    "editable": true
   },
   "outputs": [
    {
     "name": "stdout",
     "output_type": "stream",
     "text": [
      "Pipeline(steps=[('imp', Imputer(axis=0, copy=True, missing_values='NaN', strategy='median', verbose=0)), ('pca', PCA(copy=True, iterated_power='auto', n_components=3, random_state=None,\n",
      "  svd_solver='auto', tol=0.0, whiten=False)), ('skb', SelectKBest(k=3, score_func=<function f_classif at 0x7f9ccf72bb90>)),...imators=10, n_jobs=1, oob_score=False, random_state=None,\n",
      "            verbose=0, warm_start=False))])\n",
      "\tAccuracy: 0.86379\tPrecision: 0.55302\tRecall: 0.24250\tF1: 0.33716\tF2: 0.27318\n",
      "\tTotal predictions: 14000\tTrue positives:  485\tFalse positives:  392\tFalse negatives: 1515\tTrue negatives: 11608\n",
      "\n"
     ]
    }
   ],
   "source": [
    "pipeline_nb = Pipeline([\n",
    "    ('imp', Imputer()),\n",
    "    ('pca', PCA()),\n",
    "    ('skb', SelectKBest(f_classif)),\n",
    "    ('clf', RandomForestClassifier()),\n",
    "])\n",
    "\n",
    "param_grid_nb = [\n",
    "    {\n",
    "        'imp__strategy': ['median', 'mean'],\n",
    "        'pca__n_components': [1],\n",
    "        'skb__k': [1],\n",
    "        'clf__min_samples_split': [2,3,5],\n",
    "        'clf__max_depth': [None,2,3],\n",
    "    },\n",
    "    {\n",
    "        'imp__strategy': ['median', 'mean'],\n",
    "        'pca__n_components': [2],\n",
    "        'skb__k': [1,2],\n",
    "        'clf__min_samples_split': [2,3,5],\n",
    "        'clf__max_depth': [None,2,3],\n",
    "    },\n",
    "    {\n",
    "        'imp__strategy': ['median', 'mean'],\n",
    "        'pca__n_components': [3],\n",
    "        'skb__k': [1,2,3],\n",
    "        'clf__min_samples_split': [2,3,5],\n",
    "        'clf__max_depth': [None,2,3],\n",
    "    }\n",
    "]        \n",
    "\n",
    "cross_validator = StratifiedShuffleSplit(random_state = 0)\n",
    "\n",
    "\n",
    "from sklearn.model_selection import GridSearchCV\n",
    "gridCV_object_nb = GridSearchCV(estimator = pipeline_nb,\n",
    "                                param_grid = param_grid_nb,\n",
    "                                scoring = 'f1',\n",
    "                                cv=cross_validator)\n",
    "\n",
    "# fit the data\n",
    "gridCV_object_nb.fit(features, labels)\n",
    "\n",
    "# get the best estimator\n",
    "pipeline_clf_nb_hp = gridCV_object_nb.best_estimator_\n",
    "\n",
    "# test results\n",
    "from tester import test_classifier\n",
    "test_classifier(pipeline_clf_nb_hp, my_dataset, features_handpicked)"
   ]
  },
  {
   "cell_type": "markdown",
   "metadata": {},
   "source": [
    "The NaiveBayes Classifier yielded results of:\n",
    "* Precision: .553\n",
    "* Recall: .243\n",
    "* F1: .337\n",
    "\n",
    "The hand-picked features with the NaiveBayes Classifier does not have high enough results."
   ]
  },
  {
   "cell_type": "markdown",
   "metadata": {
    "deletable": true,
    "editable": true
   },
   "source": [
    "### Classifiers: Hand-picked Summary\n",
    "\n",
    "None of the classifiers using the hand-picked features performed well enough. However the DecisionTree Classifier yields results that are extremtly close to the .33 threshold."
   ]
  },
  {
   "cell_type": "markdown",
   "metadata": {
    "deletable": true,
    "editable": true
   },
   "source": [
    "## Classifiers (SelectKBest Features)"
   ]
  },
  {
   "cell_type": "markdown",
   "metadata": {
    "deletable": true,
    "editable": true
   },
   "source": [
    "##### Classifiers: Decision Tree (SelectKBest)"
   ]
  },
  {
   "cell_type": "code",
   "execution_count": 30,
   "metadata": {
    "collapsed": true,
    "deletable": true,
    "editable": true
   },
   "outputs": [],
   "source": [
    "### Extract features and labels from dataset for local testing\n",
    "data = featureFormat(my_dataset, features_kbest, sort_keys = True)\n",
    "labels, features = targetFeatureSplit(data)"
   ]
  },
  {
   "cell_type": "code",
   "execution_count": 31,
   "metadata": {
    "collapsed": false,
    "deletable": true,
    "editable": true
   },
   "outputs": [
    {
     "name": "stdout",
     "output_type": "stream",
     "text": [
      "Pipeline(steps=[('imp', Imputer(axis=0, copy=True, missing_values='NaN', strategy='median', verbose=0)), ('pca', PCA(copy=True, iterated_power='auto', n_components=2, random_state=None,\n",
      "  svd_solver='auto', tol=0.0, whiten=False)), ('skb', SelectKBest(k=2, score_func=<function f_classif at 0x7f9ccf72bb90>)),...it=2, min_weight_fraction_leaf=0.0,\n",
      "            presort=False, random_state=None, splitter='best'))])\n",
      "\tAccuracy: 0.86885\tPrecision: 0.59647\tRecall: 0.45600\tF1: 0.51686\tF2: 0.47854\n",
      "\tTotal predictions: 13000\tTrue positives:  912\tFalse positives:  617\tFalse negatives: 1088\tTrue negatives: 10383\n",
      "\n"
     ]
    }
   ],
   "source": [
    "pipeline_dt = Pipeline([\n",
    "    ('imp', Imputer()),\n",
    "    ('pca', PCA()),\n",
    "    ('skb', SelectKBest(f_classif)),\n",
    "    ('clf', DecisionTreeClassifier()),\n",
    "])\n",
    "\n",
    "param_grid_dt = [\n",
    "    {\n",
    "        'imp__strategy': ['median', 'mean'],\n",
    "        'pca__n_components': [1],\n",
    "        'skb__k': [1],\n",
    "        'clf__min_samples_split': [2,3,5],\n",
    "        'clf__max_depth': [None,2,3],\n",
    "    },\n",
    "    {\n",
    "        'imp__strategy': ['median', 'mean'],\n",
    "        'pca__n_components': [2],\n",
    "        'skb__k': [1,2],\n",
    "        'clf__min_samples_split': [2,3,5],\n",
    "        'clf__max_depth': [None,2,3],\n",
    "    },\n",
    "    {\n",
    "        'imp__strategy': ['median', 'mean'],\n",
    "        'pca__n_components': [3],\n",
    "        'skb__k': [1,2,3],\n",
    "        'clf__min_samples_split': [2,3,5],\n",
    "        'clf__max_depth': [None,2,3],\n",
    "    }       \n",
    "]        \n",
    "\n",
    "cross_validator = StratifiedShuffleSplit()\n",
    "\n",
    "\n",
    "from sklearn.model_selection import GridSearchCV\n",
    "gridCV_object_dt = GridSearchCV(estimator = pipeline_dt,\n",
    "                                param_grid = param_grid_dt,\n",
    "                                scoring = 'f1',\n",
    "                                cv=cross_validator)\n",
    "\n",
    "# fit the data\n",
    "gridCV_object_dt.fit(features, labels)\n",
    "\n",
    "# get the best estimator\n",
    "pipeline_clf_dt_sk = gridCV_object_dt.best_estimator_\n",
    "\n",
    "# test results\n",
    "from tester import test_classifier\n",
    "test_classifier(pipeline_clf_dt_sk, my_dataset, features_kbest)"
   ]
  },
  {
   "cell_type": "markdown",
   "metadata": {},
   "source": [
    "The DecisionTree Classifier yielded results of:\n",
    "* Precision: .596\n",
    "* Recall: .456\n",
    "* F1: .517\n",
    "\n",
    "The selectkbest features with the DecisionTree Classifier far exceeded result expectations."
   ]
  },
  {
   "cell_type": "markdown",
   "metadata": {
    "deletable": true,
    "editable": true
   },
   "source": [
    "##### Classifiers: Random Forest (SelectKBest)"
   ]
  },
  {
   "cell_type": "code",
   "execution_count": 25,
   "metadata": {
    "collapsed": false,
    "deletable": true,
    "editable": true
   },
   "outputs": [
    {
     "name": "stdout",
     "output_type": "stream",
     "text": [
      "Pipeline(steps=[('imp', Imputer(axis=0, copy=True, missing_values='NaN', strategy='median', verbose=0)), ('pca', PCA(copy=True, iterated_power='auto', n_components=2, random_state=None,\n",
      "  svd_solver='auto', tol=0.0, whiten=False)), ('skb', SelectKBest(k=1, score_func=<function f_classif at 0x7f9ccf72bb90>)),...imators=10, n_jobs=1, oob_score=False, random_state=None,\n",
      "            verbose=0, warm_start=False))])\n",
      "\tAccuracy: 0.81854\tPrecision: 0.36850\tRecall: 0.25150\tF1: 0.29896\tF2: 0.26855\n",
      "\tTotal predictions: 13000\tTrue positives:  503\tFalse positives:  862\tFalse negatives: 1497\tTrue negatives: 10138\n",
      "\n"
     ]
    }
   ],
   "source": [
    "pipeline_rf = Pipeline([\n",
    "    ('imp', Imputer()),\n",
    "    ('pca', PCA()),\n",
    "    ('skb', SelectKBest(f_classif)),\n",
    "    ('clf', RandomForestClassifier()),\n",
    "])\n",
    "\n",
    "param_grid_rf = [\n",
    "    {\n",
    "        'imp__strategy': ['median', 'mean'],\n",
    "        'pca__n_components': [1],\n",
    "        'skb__k': [1],\n",
    "        'clf__min_samples_split': [2,3,5],\n",
    "        'clf__max_depth': [None,2,3],\n",
    "    },\n",
    "    {\n",
    "        'imp__strategy': ['median', 'mean'],\n",
    "        'pca__n_components': [2],\n",
    "        'skb__k': [1,2],\n",
    "        'clf__min_samples_split': [2,3,5],\n",
    "        'clf__max_depth': [None,2,3],\n",
    "    },\n",
    "    {\n",
    "        'imp__strategy': ['median', 'mean'],\n",
    "        'pca__n_components': [3],\n",
    "        'skb__k': [1,2,3],\n",
    "        'clf__min_samples_split': [2,3,5],\n",
    "        'clf__max_depth': [None,2,3],\n",
    "    }\n",
    "]        \n",
    "\n",
    "cross_validator = StratifiedShuffleSplit(random_state = 0)\n",
    "\n",
    "\n",
    "gridCV_object_rf = GridSearchCV(estimator = pipeline_rf,\n",
    "                                param_grid = param_grid_rf,\n",
    "                                scoring = 'f1',\n",
    "                                cv=cross_validator)\n",
    "\n",
    "# fit the data\n",
    "gridCV_object_rf.fit(features, labels)\n",
    "\n",
    "# get the best estimator\n",
    "pipeline_clf_rf_sk = gridCV_object_rf.best_estimator_\n",
    "\n",
    "# test results\n",
    "from tester import test_classifier\n",
    "test_classifier(pipeline_clf_rf_sk, my_dataset, features_kbest)"
   ]
  },
  {
   "cell_type": "markdown",
   "metadata": {},
   "source": [
    "The RandomTrees Classifier yielded results of:\n",
    "* Precision: .369\n",
    "* Recall: .252\n",
    "* F1: .299\n",
    "\n",
    "The selectkbest features with the RandomTrees Classifier does not have high enough results."
   ]
  },
  {
   "cell_type": "markdown",
   "metadata": {
    "deletable": true,
    "editable": true
   },
   "source": [
    "##### Classifiers: Extra Trees (SelectKBest)"
   ]
  },
  {
   "cell_type": "code",
   "execution_count": 26,
   "metadata": {
    "collapsed": false,
    "deletable": true,
    "editable": true
   },
   "outputs": [
    {
     "name": "stdout",
     "output_type": "stream",
     "text": [
      "Pipeline(steps=[('imp', Imputer(axis=0, copy=True, missing_values='NaN', strategy='mean', verbose=0)), ('pca', PCA(copy=True, iterated_power='auto', n_components=3, random_state=None,\n",
      "  svd_solver='auto', tol=0.0, whiten=False)), ('skb', SelectKBest(k=3, score_func=<function f_classif at 0x7f9ccf72bb90>)), (...timators=10, n_jobs=1, oob_score=False, random_state=None,\n",
      "           verbose=0, warm_start=False))])\n",
      "\tAccuracy: 0.85838\tPrecision: 0.59364\tRecall: 0.25200\tF1: 0.35381\tF2: 0.28478\n",
      "\tTotal predictions: 13000\tTrue positives:  504\tFalse positives:  345\tFalse negatives: 1496\tTrue negatives: 10655\n",
      "\n"
     ]
    }
   ],
   "source": [
    "pipeline_et = Pipeline([\n",
    "    ('imp', Imputer()),\n",
    "    ('pca', PCA()),\n",
    "    ('skb', SelectKBest(f_classif)),\n",
    "    ('clf', ExtraTreesClassifier()),\n",
    "])\n",
    "\n",
    "param_grid_et = [\n",
    "    {\n",
    "        'imp__strategy': ['median', 'mean'],\n",
    "        'pca__n_components': [1],\n",
    "        'skb__k': [1],\n",
    "        'clf__min_samples_split': [2,3,5],\n",
    "        'clf__max_depth': [None,2,3],\n",
    "    },\n",
    "    {\n",
    "        'imp__strategy': ['median', 'mean'],\n",
    "        'pca__n_components': [2],\n",
    "        'skb__k': [1,2],\n",
    "        'clf__min_samples_split': [2,3,5],\n",
    "        'clf__max_depth': [None,2,3],\n",
    "    },\n",
    "    {\n",
    "        'imp__strategy': ['median', 'mean'],\n",
    "        'pca__n_components': [3],\n",
    "        'skb__k': [1,2,3],\n",
    "        'clf__min_samples_split': [2,3,5],\n",
    "        'clf__max_depth': [None,2,3],\n",
    "    }\n",
    "]              \n",
    "\n",
    "cross_validator = StratifiedShuffleSplit(random_state = 0)\n",
    "\n",
    "gridCV_object_etsk = GridSearchCV(estimator = pipeline_et,\n",
    "                                param_grid = param_grid_et,\n",
    "                                scoring = 'f1',\n",
    "                                cv=cross_validator)\n",
    "\n",
    "# fit the data\n",
    "gridCV_object_et.fit(features, labels)\n",
    "\n",
    "# get the best estimator\n",
    "pipeline_clf_et_sk = gridCV_object_et.best_estimator_\n",
    "\n",
    "# test results\n",
    "from tester import test_classifier\n",
    "test_classifier(pipeline_clf_et_sk, my_dataset, features_kbest)"
   ]
  },
  {
   "cell_type": "markdown",
   "metadata": {},
   "source": [
    "The ExtraTrees Classifier yielded results of:\n",
    "* Precision: .594\n",
    "* Recall: .252\n",
    "* F1: .354\n",
    "\n",
    "The selectkbest features with the ExtraTrees Classifier does not have high enough results."
   ]
  },
  {
   "cell_type": "markdown",
   "metadata": {
    "deletable": true,
    "editable": true
   },
   "source": [
    "##### Classifiers: SVMs (SelectKBest)"
   ]
  },
  {
   "cell_type": "code",
   "execution_count": 27,
   "metadata": {
    "collapsed": false,
    "deletable": true,
    "editable": true
   },
   "outputs": [
    {
     "name": "stdout",
     "output_type": "stream",
     "text": [
      "Pipeline(steps=[('imp', Imputer(axis=0, copy=True, missing_values='NaN', strategy='median', verbose=0)), ('minmaxscaler', MinMaxScaler(copy=True, feature_range=(0, 1))), ('pca', PCA(copy=True, iterated_power='auto', n_components=1, random_state=None,\n",
      "  svd_solver='auto', tol=0.0, whiten=False)), ('skb', Sele...,\n",
      "  max_iter=-1, probability=False, random_state=None, shrinking=True,\n",
      "  tol=0.001, verbose=False))])\n",
      "\tAccuracy: 0.86062\tPrecision: 0.77811\tRecall: 0.13150\tF1: 0.22498\tF2: 0.15771\n",
      "\tTotal predictions: 13000\tTrue positives:  263\tFalse positives:   75\tFalse negatives: 1737\tTrue negatives: 10925\n",
      "\n"
     ]
    }
   ],
   "source": [
    "pipeline_svc = Pipeline([\n",
    "    ('imp', Imputer()),\n",
    "    ('minmaxscaler', MinMaxScaler()),\n",
    "    ('pca', PCA()),\n",
    "    ('skb', SelectKBest(f_classif)),\n",
    "    ('clf', SVC()),\n",
    "])\n",
    "\n",
    "param_grid_svc = [\n",
    "    {\n",
    "        'imp__strategy': ['median', 'mean'],\n",
    "        'pca__n_components': [1],\n",
    "        'skb__k': [1],\n",
    "        'clf__C': [10,50,100],\n",
    "        'clf__kernel': ['rbf', 'poly'],\n",
    "    },\n",
    "    {\n",
    "        'imp__strategy': ['median', 'mean'],\n",
    "        'pca__n_components': [2],\n",
    "        'skb__k': [1,2],\n",
    "        'clf__C': [10,50,100],\n",
    "        'clf__kernel': ['rbf', 'poly'],\n",
    "    },\n",
    "    {\n",
    "        'imp__strategy': ['median', 'mean'],\n",
    "        'pca__n_components': [3],\n",
    "        'skb__k': [1,2,3],\n",
    "        'clf__C': [10,50,100],\n",
    "        'clf__kernel': ['rbf', 'poly'],\n",
    "    }\n",
    "]\n",
    "\n",
    "cross_validator = StratifiedShuffleSplit()\n",
    "\n",
    "gridCV_object_svc = GridSearchCV(estimator = pipeline_svc,\n",
    "                                 param_grid = param_grid_svc,\n",
    "                                 scoring = 'f1',\n",
    "                                 cv = cross_validator)\n",
    "\n",
    "# fit the data\n",
    "gridCV_object_svc.fit(features_train, labels_train)\n",
    "\n",
    "\n",
    "# get the best estimator\n",
    "pipeline_clf_svc_sk = gridCV_object_svc.best_estimator_\n",
    "\n",
    "# test results\n",
    "from tester import test_classifier\n",
    "test_classifier(pipeline_clf_svc_sk, my_dataset, features_kbest)"
   ]
  },
  {
   "cell_type": "markdown",
   "metadata": {},
   "source": [
    "The SVM Classifier yielded results of:\n",
    "* Precision: .778\n",
    "* Recall: .132\n",
    "* F1: .225\n",
    "\n",
    "The selectkbest features with the SVM Classifier does not have high enough results."
   ]
  },
  {
   "cell_type": "markdown",
   "metadata": {
    "deletable": true,
    "editable": true
   },
   "source": [
    "##### Classifiers: Naive Bayes (SelectKBest)"
   ]
  },
  {
   "cell_type": "code",
   "execution_count": 28,
   "metadata": {
    "collapsed": false,
    "deletable": true,
    "editable": true
   },
   "outputs": [
    {
     "name": "stdout",
     "output_type": "stream",
     "text": [
      "Pipeline(steps=[('imp', Imputer(axis=0, copy=True, missing_values='NaN', strategy='median', verbose=0)), ('pca', PCA(copy=True, iterated_power='auto', n_components=3, random_state=None,\n",
      "  svd_solver='auto', tol=0.0, whiten=False)), ('skb', SelectKBest(k=2, score_func=<function f_classif at 0x7f9ccf72bb90>)),...imators=10, n_jobs=1, oob_score=False, random_state=None,\n",
      "            verbose=0, warm_start=False))])\n",
      "\tAccuracy: 0.83923\tPrecision: 0.45690\tRecall: 0.23850\tF1: 0.31340\tF2: 0.26371\n",
      "\tTotal predictions: 13000\tTrue positives:  477\tFalse positives:  567\tFalse negatives: 1523\tTrue negatives: 10433\n",
      "\n"
     ]
    }
   ],
   "source": [
    "pipeline_nb = Pipeline([\n",
    "    ('imp', Imputer()),\n",
    "    ('pca', PCA()),\n",
    "    ('skb', SelectKBest(f_classif)),\n",
    "    ('clf', RandomForestClassifier()),\n",
    "])\n",
    "\n",
    "param_grid_nb = [\n",
    "    {\n",
    "        'imp__strategy': ['median', 'mean'],\n",
    "        'pca__n_components': [1],\n",
    "        'skb__k': [1],\n",
    "        'clf__min_samples_split': [2,3,5],\n",
    "        'clf__max_depth': [None,2,3],\n",
    "    },\n",
    "    {\n",
    "        'imp__strategy': ['median', 'mean'],\n",
    "        'pca__n_components': [2],\n",
    "        'skb__k': [1,2],\n",
    "        'clf__min_samples_split': [2,3,5],\n",
    "        'clf__max_depth': [None,2,3],\n",
    "    },\n",
    "    {\n",
    "        'imp__strategy': ['median', 'mean'],\n",
    "        'pca__n_components': [3],\n",
    "        'skb__k': [1,2,3],\n",
    "        'clf__min_samples_split': [2,3,5],\n",
    "        'clf__max_depth': [None,2,3],\n",
    "    }\n",
    "]        \n",
    "\n",
    "cross_validator = StratifiedShuffleSplit(random_state = 0)\n",
    "\n",
    "\n",
    "from sklearn.model_selection import GridSearchCV\n",
    "gridCV_object_nb = GridSearchCV(estimator = pipeline_nb,\n",
    "                                param_grid = param_grid_nb,\n",
    "                                scoring = 'f1',\n",
    "                                cv=cross_validator)\n",
    "\n",
    "# fit the data\n",
    "gridCV_object_nb.fit(features, labels)\n",
    "\n",
    "# get the best estimator\n",
    "pipeline_clf_nb_sk = gridCV_object_nb.best_estimator_\n",
    "\n",
    "# test results\n",
    "from tester import test_classifier\n",
    "test_classifier(pipeline_clf_nb_sk, my_dataset, features_kbest)"
   ]
  },
  {
   "cell_type": "markdown",
   "metadata": {},
   "source": [
    "The NaiveBayes Classifier yielded results of:\n",
    "* Precision: .457\n",
    "* Recall: .239\n",
    "* F1: .313\n",
    "\n",
    "The selectkbest features with the NaiveBayes Classifier does not have high enough results."
   ]
  },
  {
   "cell_type": "markdown",
   "metadata": {
    "deletable": true,
    "editable": true
   },
   "source": [
    "### Classifiers: SelectKBest Summary\n",
    "\n",
    "The Decision Tree classifier completely exceeds all expections and is the clear winner of the selectkbest feature selection. The **Decision Tree** classifier with **selectkbest** attained scores of **precision = .596**, **recall = .456** and **F score = .517**."
   ]
  },
  {
   "cell_type": "markdown",
   "metadata": {
    "deletable": true,
    "editable": true
   },
   "source": [
    "### Classifiers: Features List vs. Hand-picked vs. SelectKBest Summary\n",
    "\n",
    "The features chosen as best across features list, hand-picked, and selectkbest is the features chosen with selectkbest. Again, the selectkbest features are:\n",
    "* exercised_stock_option\n",
    "* total_stock_value\n",
    "* bonus\n",
    "\n",
    "The Classifier that offered the greatest results is the DecisionTree Classifier.\n",
    "\n",
    "Combing both the selectkbest features and the DecisionTree Classifier results yielded an astounding:\n",
    "* Precision: .596\n",
    "* Recall: .456\n",
    "* F1: .517"
   ]
  },
  {
   "cell_type": "markdown",
   "metadata": {
    "deletable": true,
    "editable": true
   },
   "source": [
    "### Validation and Parameter Tuning\n",
    "\n",
    "##### Validation\n",
    "Data validation is the series of steps it takes to make sure the data is clean and useful. Dirty data (being mislabeled or unaccurate) leads to inconclusive results no matter the outcome. \n",
    "\n",
    "Validation in machine learning is first overcome by exploring the dataset and handling dirty data through means of cleaning it up or removing it entirely. This was achieved in the Enron Corpus by removing non-name entries and later by the Imputer function to change NaN values to either mean or median values (whichever lead to higher f1 scores). Another validation technique used was splitting the data into training and testing sets. A training size too large can overfit the classifier causing low testing results, whereas a trianing size too low can underfit the classfier, again, causing low testing results.  \n",
    "\n",
    "\n",
    "##### Parameter Tuning\n",
    "As discussed earlier, parameters of each classifier were tuned using both a pipeline and creating a gridCV object. The gridCV object tests multiple lists of parameters and returns the parameters that maximize a scoring function. In this case all parameters were tuned to maximize F1 scores.\n",
    "\n",
    "### Summary\n",
    "\n",
    "The Enron Corpus is one of the largest datasets on fraud. Although the dataset isn't vast, a Decision Tree classifier appears to be a strong option in predicting fraud. \n",
    "\n",
    "The most important features to analyze for attempting fraud are most likely:\n",
    "* exercised stock options\n",
    "* total stock\n",
    "* bonus\n",
    "\n",
    "The afformetioned features combined with a Decision Tree classifier yield precision, recall, and f1 scores close to .4. Additional/different features for higher scores are desired; the current scores appear mediocre but the classifier has potential to be a starting point for detecting fraud.  \n",
    "\n",
    "#### References\n",
    "\n",
    "Feature Visualization:\n",
    "https://public.tableau.com/profile/diego2420#!/vizhome/Udacity/UdacityDashboard\n",
    "\n",
    "Forum Postings:\n",
    "https://discussions.udacity.com/t/getting-started-with-final-project/170846\n",
    "\n",
    "When to chose which machine learning classifier:\n",
    "http://stackoverflow.com/questions/2595176/when-to-choose-which-machine-learning-classifier\n",
    "\n",
    "GridCV and Pipeline testing:\n",
    "https://discussions.udacity.com/t/webcast-builidng-models-with-gridsearchcv-and-pipelines-thursday-11-feb-2015-at-6pm-pacific-time/47412"
   ]
  },
  {
   "cell_type": "code",
   "execution_count": 33,
   "metadata": {
    "collapsed": false,
    "deletable": true,
    "editable": true
   },
   "outputs": [],
   "source": [
    "dump_classifier_and_data(pipeline_clf_dt_sk, my_dataset, features_kbest)"
   ]
  },
  {
   "cell_type": "code",
   "execution_count": null,
   "metadata": {
    "collapsed": true,
    "deletable": true,
    "editable": true
   },
   "outputs": [],
   "source": []
  }
 ],
 "metadata": {
  "kernelspec": {
   "display_name": "Python 2",
   "language": "python",
   "name": "python2"
  },
  "language_info": {
   "codemirror_mode": {
    "name": "ipython",
    "version": 2
   },
   "file_extension": ".py",
   "mimetype": "text/x-python",
   "name": "python",
   "nbconvert_exporter": "python",
   "pygments_lexer": "ipython2",
   "version": "2.7.12"
  }
 },
 "nbformat": 4,
 "nbformat_minor": 2
}
